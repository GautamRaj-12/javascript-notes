{
 "cells": [
  {
   "cell_type": "markdown",
   "id": "24cd6cc4-0039-4063-9507-f5208136ac2a",
   "metadata": {},
   "source": [
    "## 2.Setting Up Environment in Local Machine for JS\n",
    "   * Earlier in Browser\n",
    "   * But Now, NODE, DENO are there\n",
    "   * For writing code - VS Code\n"
   ]
  },
  {
   "cell_type": "code",
   "execution_count": 1,
   "id": "86cc4d99-65ca-4d8d-9ce3-e9e5a6b5925a",
   "metadata": {},
   "outputs": [
    {
     "name": "stdout",
     "output_type": "stream",
     "text": [
      "Learning JS\n"
     ]
    }
   ],
   "source": [
    "//test.js\n",
    "console.log(\"Learning JS\");"
   ]
  },
  {
   "cell_type": "markdown",
   "id": "b56594a7-7eac-4406-b8a1-8e977f041b86",
   "metadata": {},
   "source": [
    "* In the terminal, To run\n",
    "    * Download and Install Node \n",
    "    * `node test.js`"
   ]
  },
  {
   "cell_type": "markdown",
   "id": "ca9cbccc-45f1-478a-8c21-a63da1063d05",
   "metadata": {},
   "source": [
    "## 3. Save and Work on Github for JS\n",
    "   * Using Codespaces on Github\n",
    "      or\n",
    "   * Using Push, Pull\n"
   ]
  },
  {
   "cell_type": "markdown",
   "id": "7ec8547a-4e9e-4c22-aafc-6fe49d60b7e9",
   "metadata": {},
   "source": [
    "## 4. Let, Const and Var"
   ]
  },
  {
   "cell_type": "code",
   "execution_count": 9,
   "id": "451ab835-6f0e-48c6-bd41-d815e24f5245",
   "metadata": {},
   "outputs": [
    {
     "name": "stdout",
     "output_type": "stream",
     "text": [
      "┌───────┬────────────────────┐\n",
      "│ (idx) │ Values             │\n",
      "├───────┼────────────────────┤\n",
      "│     0 │ 144553             │\n",
      "│     1 │ \"gautam@gmail.com\" │\n",
      "│     2 │ \"12345\"            │\n",
      "│     3 │ undefined          │\n",
      "└───────┴────────────────────┘\n"
     ]
    }
   ],
   "source": [
    "const accountId = 144553\n",
    "let accountEmail = \"gautam@gmail.com\"\n",
    "var accountPassword = \"12345\"\n",
    "// accountCity = \"Jaipur\" //It will give an error here in Deno, but in Node and Browser, It will run just fine\n",
    "let accountState //undefined\n",
    "//accountId = 2  //Not Allowed - Assignment to constant variable\n",
    "\n",
    "console.table([accountId,accountEmail,accountPassword,accountState])"
   ]
  },
  {
   "cell_type": "markdown",
   "id": "9ccabcc9-37d1-4f6e-97ba-3bf5616d7df6",
   "metadata": {},
   "source": [
    "*Prefer not to user var -> Because of issues in block scope and functional scope*"
   ]
  },
  {
   "cell_type": "markdown",
   "id": "0b67206f-ee05-4cad-a869-12e83ac94763",
   "metadata": {},
   "source": [
    "## 5. Datatypes and ECMAScript"
   ]
  },
  {
   "cell_type": "code",
   "execution_count": 3,
   "id": "bdf5edb9-8d56-4c7a-ba76-e06875191b85",
   "metadata": {},
   "outputs": [],
   "source": [
    "\"use strict\" //treat all JS code as newer version\n",
    "//alert(3+3); // It will not run inside Node or Deno. It will work inside the browser only"
   ]
  },
  {
   "cell_type": "markdown",
   "id": "f366449f-14cd-442b-a047-89451787c2b5",
   "metadata": {},
   "source": [
    "**Two important documentations for javascript**\n",
    " - MDN\n",
    " - tc39 ecmascript"
   ]
  },
  {
   "cell_type": "markdown",
   "id": "e05a230f-533a-450d-a277-7e90a13fe161",
   "metadata": {},
   "source": [
    "**Data types in javascript**\n",
    " - number\n",
    " - bigInt\n",
    " - string\n",
    " - boolean\n",
    " - null => standalone value\n",
    " - undefined\n",
    " - symbol => unique\n",
    " - object"
   ]
  },
  {
   "cell_type": "code",
   "execution_count": 6,
   "id": "e696887b-26e0-4b1a-b4ba-0e9c86142fd9",
   "metadata": {},
   "outputs": [
    {
     "name": "stdout",
     "output_type": "stream",
     "text": [
      "number\n",
      "string\n",
      "undefined\n",
      "object\n"
     ]
    }
   ],
   "source": [
    "//Using typeof operator\n",
    "console.log(typeof 5)  //number\n",
    "console.log(typeof (\"learning\")) //string\n",
    "console.log(typeof undefined) //type of undefined is UNDEFINED\n",
    "console.log(typeof null)  //but type of null is OBJECT"
   ]
  },
  {
   "cell_type": "markdown",
   "id": "964e1dbd-3928-400c-901f-57c7c2d49db2",
   "metadata": {},
   "source": [
    "## 6. Datatype Conversion Confusion\n",
    "We can use Number, Boolean and String wrapper types to convert to a particular datatype"
   ]
  },
  {
   "cell_type": "code",
   "execution_count": 9,
   "id": "d864735f-fa2f-47de-96f2-a03d937e7cb3",
   "metadata": {},
   "outputs": [
    {
     "name": "stdout",
     "output_type": "stream",
     "text": [
      "string\n",
      "number\n",
      "\u001b[33m33\u001b[39m\n",
      "string\n",
      "number\n",
      "\u001b[33mNaN\u001b[39m\n",
      "object\n",
      "number\n",
      "\u001b[33m0\u001b[39m\n"
     ]
    }
   ],
   "source": [
    "let score = \"33\"\n",
    "console.log(typeof score) //string \n",
    "\n",
    "let valueInNumber = Number(score)\n",
    "console.log(typeof valueInNumber) //number\n",
    "console.log(valueInNumber)\n",
    "\n",
    "let anotherScore = \"33abc\"\n",
    "console.log(typeof anotherScore) //string\n",
    "\n",
    "let valueInAnotherNumber = Number(anotherScore)\n",
    "console.log(typeof valueInAnotherNumber) //number\n",
    "console.log(valueInAnotherNumber) //NaN\n",
    "\n",
    "let anyValue = null\n",
    "console.log(typeof anyValue) //object\n",
    "\n",
    "let anyValueInNumber = Number(anyValue)\n",
    "console.log(typeof anyValueInNumber); //number\n",
    "console.log(anyValueInNumber); //0\n"
   ]
  },
  {
   "cell_type": "markdown",
   "id": "3a4d559e-3443-4f99-9659-f3e4414fc2ab",
   "metadata": {},
   "source": [
    "- \"33\" converted to 33\n",
    "- \"33abc\" converted to NaN, but, *type of Nan is a Number*\n",
    "- true converted to 1, false converted to 0\n",
    "- Null converted to 0"
   ]
  },
  {
   "cell_type": "code",
   "execution_count": 11,
   "id": "8f052fa7-411b-4326-8187-8f13a2aeaf72",
   "metadata": {},
   "outputs": [
    {
     "name": "stdout",
     "output_type": "stream",
     "text": [
      "boolean\n",
      "\u001b[33mtrue\u001b[39m\n",
      "boolean\n",
      "\u001b[33mfalse\u001b[39m\n",
      "boolean\n",
      "\u001b[33mtrue\u001b[39m\n"
     ]
    }
   ],
   "source": [
    "let isLoggedIn = 1\n",
    "let booleanIsLoggedIn = Boolean(isLoggedIn)\n",
    "console.log(typeof booleanIsLoggedIn) //boolean\n",
    "console.log(booleanIsLoggedIn) //true\n",
    "\n",
    "let isSignedIn = \"\"\n",
    "let booleanIsSignedIn = Boolean(isSignedIn)\n",
    "console.log(typeof booleanIsSignedIn) //boolean\n",
    "console.log(booleanIsSignedIn) //false\n",
    "\n",
    "let isSignedInAgain = \"any value\" \n",
    "let booleanIsSignedInAgain = Boolean(isSignedInAgain)\n",
    "console.log(typeof booleanIsSignedInAgain) //boolean\n",
    "console.log(booleanIsSignedInAgain) //true"
   ]
  },
  {
   "cell_type": "markdown",
   "id": "51487eaa-645c-4d37-a802-33fb437032df",
   "metadata": {},
   "source": [
    "# 7. Operations"
   ]
  },
  {
   "cell_type": "code",
   "execution_count": 1,
   "id": "3317da6a-2f02-4bdb-a3f7-0f00cd89e49d",
   "metadata": {},
   "outputs": [
    {
     "name": "stdout",
     "output_type": "stream",
     "text": [
      "\u001b[33m-3\u001b[39m\n",
      "\u001b[33m4\u001b[39m\n",
      "\u001b[33m2\u001b[39m\n",
      "\u001b[33m6\u001b[39m\n",
      "\u001b[33m16\u001b[39m\n",
      "\u001b[33m3.2\u001b[39m\n",
      "\u001b[33m1\u001b[39m\n",
      "Hello Users\n",
      "12\n",
      "12\n",
      "122\n",
      "32\n",
      "143\n"
     ]
    }
   ],
   "source": [
    "let value = 3\n",
    "let negValue = -value\n",
    "\n",
    "console.log(negValue) //-3\n",
    "console.log(2+2) //4\n",
    "console.log(4-2) //2\n",
    "console.log(2*3) //6\n",
    "console.log(2**4) // 2 raised to the power 4 \n",
    "console.log(16/5) //3\n",
    "console.log(16%5) //1\n",
    "\n",
    "let str1 = \"Hello\"\n",
    "let str2 = \" Users\"\n",
    "let str3 = str1+str2\n",
    "console.log(str3) //Hello Users\n",
    "\n",
    "console.log(\"1\"+2) //12\n",
    "console.log(1+\"2\") //12\n",
    "console.log(\"1\"+2+2) //122 //2+2 is not added first, every character is treated as string\n",
    "console.log(1+2+\"2\") //32  //1+2 is added first, and then 3 is added to \"2\" as a string\n",
    "console.log(1+\"4\"+3) //143 \n",
    " //Operations are performed from left to right"
   ]
  },
  {
   "cell_type": "markdown",
   "id": "611da4b3-b117-472b-a7e4-31f2ba75a205",
   "metadata": {},
   "source": [
    "**_Operations are performed from left to right_**\n",
    "\n",
    "**Read more** [Type Conversion](https://tc39.es/ecma262/multipage/abstract-operations.html#sec-type-conversion)"
   ]
  },
  {
   "cell_type": "code",
   "execution_count": 2,
   "id": "01eaa121-32c3-40db-827b-5dea3ea82e8b",
   "metadata": {},
   "outputs": [
    {
     "name": "stdout",
     "output_type": "stream",
     "text": [
      "\u001b[33m1\u001b[39m\n",
      "\u001b[33m0\u001b[39m\n"
     ]
    }
   ],
   "source": [
    "console.log(+true)\n",
    "console.log(+\"\")\n",
    "//avoid these kinds of things"
   ]
  },
  {
   "cell_type": "markdown",
   "id": "edb24d1a-a391-493b-9d13-4688e7eb210a",
   "metadata": {},
   "source": [
    "**Prefix and Postfix**\n",
    "- When the increment or decrement operators are written before the operand, they are termed as ***prefix*** operators. They increase or decrease the value before the action has taken place.\n",
    "- Prefix Increment : ++, Prefix Decremenent: --\n",
    "  ex: ++a, --b\n",
    "- When the increment or decrement operators are written after the operand, they are termed as ***postfix*** operators. They increase or decrease the value after the action has taken place.\n",
    "- Postfix Increment : ++, Postfix Decremenent: --\n",
    "  ex: a++, b--\n",
    "\n",
    "**Examples**\n",
    "1. If y=14, find z = (++y * (y++ +5))\n",
    "\n",
    "   z = (++y * (y++ +5))\n",
    "   \n",
    "     = (15*(15+5)\n",
    "   \n",
    "     = 15*20\n",
    "   \n",
    "     = 300\n",
    "\n",
    "2. If a=8, find the value of a-= ++a + a++ +4 \n",
    "\n",
    "    a -= ++a + a++ +4\n",
    "   \n",
    "    a = a-(++a + a++ +4)\n",
    "   \n",
    "      = 8-(9 + 9 + 4)\n",
    "   \n",
    "      = 8-22\n",
    "   \n",
    "      = -14"
   ]
  },
  {
   "cell_type": "code",
   "execution_count": 4,
   "id": "677b60ba-4c8c-4373-9682-4f0fbc5efe46",
   "metadata": {},
   "outputs": [
    {
     "name": "stdout",
     "output_type": "stream",
     "text": [
      "\u001b[33m300\u001b[39m\n",
      "\u001b[33m-14\u001b[39m\n"
     ]
    }
   ],
   "source": [
    "let y = 14 \n",
    "let z = (++y * (y++ +5))\n",
    "console.log(z)\n",
    "let a = 8\n",
    "a-= ++a + a++ +4\n",
    "console.log(a)"
   ]
  },
  {
   "cell_type": "markdown",
   "id": "dd19b9a7-78a9-4b0c-a916-dcee444f05ad",
   "metadata": {},
   "source": [
    "## 8. Comparison of Datatypes in Javascript"
   ]
  },
  {
   "cell_type": "code",
   "execution_count": 1,
   "id": "9e8363c1-64de-4439-8131-7164195d72d9",
   "metadata": {},
   "outputs": [
    {
     "name": "stdout",
     "output_type": "stream",
     "text": [
      "\u001b[33mtrue\u001b[39m\n",
      "\u001b[33mtrue\u001b[39m\n",
      "\u001b[33mfalse\u001b[39m\n",
      "\u001b[33mfalse\u001b[39m\n",
      "\u001b[33mtrue\u001b[39m\n",
      "\u001b[33mtrue\u001b[39m\n",
      "\u001b[33mtrue\u001b[39m\n",
      "\u001b[33mfalse\u001b[39m\n",
      "\u001b[33mfalse\u001b[39m\n",
      "\u001b[33mfalse\u001b[39m\n",
      "\u001b[33mtrue\u001b[39m\n",
      "\u001b[33mfalse\u001b[39m\n",
      "\u001b[33mfalse\u001b[39m\n",
      "\u001b[33mfalse\u001b[39m\n"
     ]
    }
   ],
   "source": [
    "console.log(2 > 1); //true\n",
    "console.log(2 >= 1); //true\n",
    "console.log(2 < 1); //false\n",
    "console.log(2 == 1); //false\n",
    "console.log(2 != 1); //false\n",
    "\n",
    "\n",
    "console.log(\"2\" > 1); //true\n",
    "console.log(\"02\" > 1); //true\n",
    "\n",
    "// === \n",
    "console.log(\"2\" === 2); //false === (strict operator). It checks value as well as data type\n",
    "\n",
    "//Try to avoid the following types of comparisons\n",
    "console.log(null > 0); //false\n",
    "console.log(null == 0); //false\n",
    "console.log(null >= 0); // true\n",
    "\n",
    "//the above 2 outputs are confusing. The reason being equality check operator and comparison operator works different in javascript.\n",
    "//comparisons convert null to a number treating it as 0\n",
    "\n",
    "console.log(undefined == 0);\n",
    "console.log(undefined > 0);  \n",
    "console.log(undefined < 0);  "
   ]
  },
  {
   "cell_type": "markdown",
   "id": "2ca1932a-9e09-4382-94dc-60690bafd5fb",
   "metadata": {},
   "source": [
    "## 9. Summary of Data Types in Js\n",
    "Based on the how data is stored and accessed, there are broadly two types of datatypes:\n",
    "- Primitive\n",
    "- Non Primitive\n",
    "\n",
    "JavaScript is a dynamically typed language. This means that variable types are determined at runtime, and you do not need to explicitly declare the type of a variable before using it. You can assign different types of values to a variable during its lifetime.\n",
    "Languages like Java, C++, and TypeScript are statically typed, and they require you to specify the variable type explicitly when declaring them."
   ]
  },
  {
   "cell_type": "code",
   "execution_count": 8,
   "id": "6c71719d-6f86-40f3-b9a3-310468e92ca7",
   "metadata": {},
   "outputs": [
    {
     "name": "stdout",
     "output_type": "stream",
     "text": [
      "\u001b[33mfalse\u001b[39m\n",
      "symbol\n"
     ]
    }
   ],
   "source": [
    "//  Primitive : Call by value\n",
    "\n",
    "//  7 types : String, Number, Boolearn, null, undefined, Symbol, BigInt\n",
    "\n",
    "const score = 100\n",
    "const scoreValue = 100.3\n",
    "\n",
    "const isLoggedIn = false\n",
    "const outsideTemp = null\n",
    "let userEmail;\n",
    "\n",
    "const id = Symbol('123')\n",
    "const anotherId = Symbol('123')\n",
    "\n",
    "console.log(id === anotherId); //false\n",
    "\n",
    "// const bigNumber = 3456543576654356754n\n",
    "\n",
    "\n",
    "// Reference (Non primitive)\n",
    "\n",
    "// Array, Objects, Functions\n",
    "\n",
    "const heros = [\"shaktiman\", \"naagraj\", \"doga\"];\n",
    "let myObj = {\n",
    "    name: \"Gautam\",\n",
    "    age: 23,\n",
    "}\n",
    "\n",
    "const myFunction = function(){\n",
    "    console.log(\"Hello world\");\n",
    "}\n",
    "\n",
    "console.log(typeof anotherId);\n",
    "\n",
    "// https://262.ecma-international.org/5.1/#sec-11.4.3"
   ]
  },
  {
   "attachments": {
    "6d9a9c93-9648-42ca-b92c-3bb15087e23e.png": {
     "image/png": "[encoded data removed]"
    }
   },
   "cell_type": "markdown",
   "id": "eeca8456-18da-4c2e-a6de-e0b877dfc83b",
   "metadata": {},
   "source": [
    "![image.png](attachment:6d9a9c93-9648-42ca-b92c-3bb15087e23e.png)"
   ]
  },
  {
   "cell_type": "markdown",
   "id": "b3ace0fa-df8d-4adc-8d18-33e96c484cfc",
   "metadata": {},
   "source": [
    "## 10. Stack and Heap Memory in Javascript"
   ]
  },
  {
   "cell_type": "markdown",
   "id": "5ff39eab-130e-4e78-a7af-a9d59398b354",
   "metadata": {},
   "source": [
    "- Stack Memory - Primitive Type\n",
    "- Heap Memory - Non Primitive Type"
   ]
  },
  {
   "cell_type": "markdown",
   "id": "57b80443-d152-44eb-8bca-3d1b69da986f",
   "metadata": {},
   "source": [
    "**Stack Memory : Whenever we take some value inside stack, we get its copy**"
   ]
  },
  {
   "cell_type": "code",
   "execution_count": 10,
   "id": "1ab3d83e-9ebb-4a45-bcb9-2d5e67cb29bc",
   "metadata": {},
   "outputs": [
    {
     "name": "stdout",
     "output_type": "stream",
     "text": [
      "Gautam\n",
      "Virat\n"
     ]
    }
   ],
   "source": [
    "let myName = \"Gautam\"\n",
    "let anotherName = myName\n",
    "anotherName  = \"Virat\"\n",
    "\n",
    "console.log(myName)\n",
    "console.log(anotherName)"
   ]
  },
  {
   "cell_type": "markdown",
   "id": "d79eb5be-bab2-4f94-be4b-afceecf388c1",
   "metadata": {},
   "source": [
    "**Heap Memory: Whenever we take some value inside heap, we get reference**"
   ]
  },
  {
   "cell_type": "code",
   "execution_count": 11,
   "id": "7c38cf09-80df-48d2-bf45-71572a7a0b7e",
   "metadata": {},
   "outputs": [
    {
     "name": "stdout",
     "output_type": "stream",
     "text": [
      "gautam@gmail.com\n",
      "gautam@gmail.com\n"
     ]
    }
   ],
   "source": [
    "let userOne = {\n",
    "    email:\"user@google.com\",\n",
    "    upi:\"user@ybl\"\n",
    "}\n",
    "let userTwo = userOne\n",
    "userTwo.email = \"gautam@gmail.com\"\n",
    "\n",
    "console.log(userOne.email)\n",
    "console.log(userTwo.email)"
   ]
  }
 ],
 "metadata": {
  "kernelspec": {
   "display_name": "Deno",
   "language": "typescript",
   "name": "deno"
  },
  "language_info": {
   "file_extension": ".ts",
   "mimetype": "text/x.typescript",
   "name": "typescript",
   "nb_converter": "script",
   "pygments_lexer": "typescript",
   "version": "5.3.3"
  }
 },
 "nbformat": 4,
 "nbformat_minor": 5
}
