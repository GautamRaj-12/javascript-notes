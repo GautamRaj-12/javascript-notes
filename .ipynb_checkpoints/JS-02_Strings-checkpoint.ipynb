{
 "cells": [
  {
   "cell_type": "markdown",
   "id": "34a24057-afd6-4a29-a59b-be4e903c4514",
   "metadata": {},
   "source": []
  },
  {
   "cell_type": "markdown",
   "id": "cef9c551-a622-40e4-baa6-aa5c1b184f83",
   "metadata": {},
   "source": [
    "## Strings\n",
    "- Strings can be created as primitives, from **string literals**, or as **objects**, using the String() constructor\n",
    "- String literals can be specified using **single** or **double quotes,** which are treated identically, or using the **backtick character** `. This last form specifies a *template literal*: with this form you can *interpolate expressions*."
   ]
  },
  {
   "cell_type": "code",
   "execution_count": 1,
   "id": "573f3f46-dfa7-4c5f-8f9a-df6635a465f2",
   "metadata": {},
   "outputs": [
    {
     "name": "stdout",
     "output_type": "stream",
     "text": [
      "Hello, I am Gautam Raj and I am a Frontend Developer working on React\n",
      "Hello, I am Gautam Raj and I am a Frontend Developer working on React\n"
     ]
    }
   ],
   "source": [
    "const firstName = \"Gautam\" //using double quotes\n",
    "const lastName = 'Raj'    //using single quotes\n",
    "const role = `Frontend Developer` //using backticks\n",
    "const workingOn = new String(\"React\") //using String() Constructor\n",
    "\n",
    "console.log(\"Hello, I am \" + firstName + \" \"+ lastName + \" and I am a \"+role + \" working on \"+workingOn); //outdated way\n",
    "//modern way - Using template strings\n",
    "console.log(`Hello, I am ${firstName} ${lastName} and I am a ${role} working on ${workingOn}`)"
   ]
  },
  {
   "cell_type": "markdown",
   "id": "8294da8f-abc6-42ee-ae39-1e62cd2c55e9",
   "metadata": {},
   "source": [
    "### String Properties\n",
    "\n",
    "- **_length_** : The length data property of a String value contains the length of the string in UTF-16 code units.\n",
    "\n",
    "  - For an empty string, length is 0.\n",
    "  - Space is counted.\n",
    "  - Because string is a primitive, attempting to assign a value to a string's length property has no observable effect, and will throw in strict mode.\n",
    "  "
   ]
  },
  {
   "cell_type": "code",
   "execution_count": 2,
   "id": "d97d527f-dbeb-437c-a068-7fd7aac7958e",
   "metadata": {},
   "outputs": [
    {
     "name": "stdout",
     "output_type": "stream",
     "text": [
      "\u001b[33m24\u001b[39m\n",
      "\u001b[33m24\u001b[39m\n",
      "\u001b[33m4\u001b[39m\n",
      "\u001b[33m3\u001b[39m\n",
      "\u001b[33m2\u001b[39m\n",
      "\u001b[33m1\u001b[39m\n",
      "\u001b[33m8\u001b[39m\n",
      "\u001b[33m4\u001b[39m\n",
      "\u001b[33m11\u001b[39m\n",
      "\u001b[33m9\u001b[39m\n"
     ]
    }
   ],
   "source": [
    "const gameName = \"Call of Duty Black Ops 2\"\n",
    "//Considers UTF-16 code units, potentially affected by surrogate pairs.\n",
    "console.log(gameName.length) //24 \n",
    "//Considers individual characters, unaffected by surrogate pairs, as each array element represents a single character.\n",
    "console.log([...gameName].length) //24  \n",
    "/*\n",
    "Here, the spread operator ([...gameName]) is used to convert the string into an array of its individual characters. \n",
    "Then, the length property is applied to this array. The array will contain each character as a separate element.\n",
    "The output will be the number of elements in the array, which corresponds to the number of characters in the original string.\n",
    "This method is not affected by characters that may require two UTF-16 code units \n",
    "(surrogate pairs) because each element in the array represents a single character.\n",
    "*/\n",
    "\n",
    "const randomString = new String (\"A\\uD87E\\uDC04Z\")\n",
    "console.log(randomString.length) //4\n",
    "console.log([...randomString].length) //3\n",
    "\n",
    "const emoji = \"😄\";\n",
    "console.log(emoji.length); // 2\n",
    "console.log([...emoji].length); // 1\n",
    "\n",
    "const adlam = \"𞤲𞥋𞤣𞤫\";\n",
    "console.log(adlam.length); // 8\n",
    "console.log([...adlam].length); // 4\n",
    "\n",
    "const formula = \"∀𝑥∈ℝ,𝑥²≥0\";\n",
    "console.log(formula.length); // 11\n",
    "console.log([...formula].length); // 9\n"
   ]
  },
  {
   "cell_type": "code",
   "execution_count": null,
   "id": "f4fa4225-df4c-4837-b400-386eafc95653",
   "metadata": {},
   "outputs": [],
   "source": []
  }
 ],
 "metadata": {
  "kernelspec": {
   "display_name": "Deno",
   "language": "typescript",
   "name": "deno"
  },
  "language_info": {
   "file_extension": ".ts",
   "mimetype": "text/x.typescript",
   "name": "typescript",
   "nb_converter": "script",
   "pygments_lexer": "typescript",
   "version": "5.3.3"
  }
 },
 "nbformat": 4,
 "nbformat_minor": 5
}
