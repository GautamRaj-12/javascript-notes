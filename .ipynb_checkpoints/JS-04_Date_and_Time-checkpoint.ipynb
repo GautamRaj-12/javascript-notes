{
 "cells": [
  {
   "cell_type": "code",
   "execution_count": null,
   "id": "0054fc91-1cc3-4955-8f91-da2793168c74",
   "metadata": {},
   "outputs": [],
   "source": []
  },
  {
   "cell_type": "markdown",
   "id": "633e1af6-f09b-4f26-abf9-1f1ce85f8e96",
   "metadata": {},
   "source": [
    "## 13. Dates in Javascript\n",
    "JavaScript Date objects represent a single moment in time in a platform-independent format. Date objects encapsulate an integral number that represents milliseconds since the midnight at the beginning of January 1, 1970, UTC (the epoch).\n",
    "\n",
    "- The **Date()** constructor creates Date objects. When called as a function, it returns a string representing the current time."
   ]
  },
  {
   "cell_type": "code",
   "execution_count": 1,
   "id": "097186c9-254f-4265-9bac-b43b2fef08de",
   "metadata": {},
   "outputs": [
    {
     "name": "stdout",
     "output_type": "stream",
     "text": [
      "\u001b[35m2024-02-15T07:00:57.886Z\u001b[39m\n",
      "Thu Feb 15 2024 12:30:57 GMT+0530 (India Standard Time)\n"
     ]
    }
   ],
   "source": [
    "let myDate = new Date()\n",
    "console.log(myDate)\n",
    "console.log(myDate.toString())"
   ]
  },
  {
   "cell_type": "code",
   "execution_count": null,
   "id": "2a88c6bc-02d4-4ec5-9239-270779eca5f8",
   "metadata": {},
   "outputs": [],
   "source": []
  }
 ],
 "metadata": {
  "kernelspec": {
   "display_name": "Deno",
   "language": "typescript",
   "name": "deno"
  },
  "language_info": {
   "file_extension": ".ts",
   "mimetype": "text/x.typescript",
   "name": "typescript",
   "nb_converter": "script",
   "pygments_lexer": "typescript",
   "version": "5.3.3"
  }
 },
 "nbformat": 4,
 "nbformat_minor": 5
}
