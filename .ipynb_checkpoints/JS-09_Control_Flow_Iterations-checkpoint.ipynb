{
 "cells": [
  {
   "cell_type": "markdown",
   "id": "918154fa-685d-4167-af30-9c9dc8a35989",
   "metadata": {},
   "source": [
    "## Table of Contents"
   ]
  },
  {
   "cell_type": "markdown",
   "id": "90b36b95-fa03-43e2-b04f-773f81ef683a",
   "metadata": {},
   "source": [
    "## Iterations"
   ]
  },
  {
   "cell_type": "markdown",
   "id": "852ff785-1c7e-4e3e-b146-86a0c3c26a32",
   "metadata": {},
   "source": [
    "### If Else"
   ]
  },
  {
   "cell_type": "code",
   "execution_count": 1,
   "id": "7b11ea58-dc60-44d4-a775-42ce6f6babba",
   "metadata": {},
   "outputs": [
    {
     "name": "stdout",
     "output_type": "stream",
     "text": [
      "User logged in\n"
     ]
    }
   ],
   "source": [
    "// if\n",
    "const isUserloggedIn = true\n",
    "const temperature = 41\n",
    "\n",
    "// if ( temperature === 40 ){\n",
    "//     console.log(\"less than 50\");\n",
    "// } else {\n",
    "//     console.log(\"temperature is greater than 50\");\n",
    "// }\n",
    "\n",
    "// console.log(\"Execute\");\n",
    "// <, >, <=, >=, ==, !=, ===, !==\n",
    "\n",
    "// const score = 200\n",
    "\n",
    "// if (score > 100) {\n",
    "//     let power = \"fly\"\n",
    "//     console.log(`User power: ${power}`);\n",
    "// }\n",
    "\n",
    "// console.log(`User power: ${power}`);\n",
    "\n",
    "\n",
    "// const balance = 1000\n",
    "\n",
    "// if (balance > 500) console.log(\"test\"),console.log(\"test2\");\n",
    "\n",
    "// if (balance < 500) {\n",
    "//     console.log(\"less than 500\");\n",
    "// } else if (balance < 750) {\n",
    "//     console.log(\"less than 750\");\n",
    "    \n",
    "// } else if (balance < 900) {\n",
    "//     console.log(\"less than 750\");\n",
    "    \n",
    "// } else {\n",
    "//     console.log(\"less than 1200\");\n",
    "\n",
    "// }\n",
    "\n",
    "const userLoggedIn = true\n",
    "const debitCard = true\n",
    "const loggedInFromGoogle = false\n",
    "const loggedInFromEmail = true\n",
    "\n",
    "if (userLoggedIn && debitCard && 2==3) {\n",
    "    console.log(\"Allow to buy course\");\n",
    "}\n",
    "\n",
    "if (loggedInFromGoogle || loggedInFromEmail) {\n",
    "    console.log(\"User logged in\");\n",
    "}"
   ]
  },
  {
   "cell_type": "markdown",
   "id": "311970fd-8dc9-49dc-aa66-6e2eaa9b0d13",
   "metadata": {},
   "source": [
    "### Switch"
   ]
  },
  {
   "cell_type": "code",
   "execution_count": 2,
   "id": "58c4e163-468a-441f-a48d-d8f5883d4197",
   "metadata": {},
   "outputs": [
    {
     "name": "stdout",
     "output_type": "stream",
     "text": [
      "march\n"
     ]
    }
   ],
   "source": [
    "// switch (key) {\n",
    "//     case value:\n",
    "        \n",
    "//         break;\n",
    "\n",
    "//     default:\n",
    "//         break;\n",
    "// }\n",
    "\n",
    "const month = \"march\"\n",
    "\n",
    "switch (month) {\n",
    "    case \"jan\":\n",
    "        console.log(\"January\");\n",
    "        break;\n",
    "    case \"feb\":\n",
    "        console.log(\"feb\");\n",
    "        break;\n",
    "    case \"march\":\n",
    "        console.log(\"march\");\n",
    "        break;\n",
    "    case \"april\":\n",
    "        console.log(\"april\");\n",
    "        break;\n",
    "\n",
    "    default:\n",
    "        console.log(\"default case match\");\n",
    "        break;\n",
    "}"
   ]
  },
  {
   "cell_type": "markdown",
   "id": "e42a9ea7-e669-4f89-a939-8b8fbd1cfe52",
   "metadata": {},
   "source": [
    "### Truthy and Falsy Values"
   ]
  },
  {
   "cell_type": "code",
   "execution_count": 3,
   "id": "5f99a1bb-eac7-4340-978f-ec8b89bf9c8d",
   "metadata": {},
   "outputs": [
    {
     "name": "stdout",
     "output_type": "stream",
     "text": [
      "Got user email\n",
      "Object is empty\n",
      "\u001b[33m10\u001b[39m\n",
      "more than 80\n"
     ]
    }
   ],
   "source": [
    "const userEmail = []\n",
    "\n",
    "if (userEmail) {\n",
    "    console.log(\"Got user email\");\n",
    "} else {\n",
    "    console.log(\"Don't have user email\");\n",
    "}\n",
    "\n",
    "// falsy values\n",
    "\n",
    "// false, 0, -0, BigInt 0n, \"\", null, undefined, NaN\n",
    "\n",
    "//truthy values\n",
    "// \"0\", 'false', \" \", [], {}, function(){}\n",
    "\n",
    "// if (userEmail.length === 0) {\n",
    "//     console.log(\"Array is empty\");\n",
    "// }\n",
    "\n",
    "const emptyObj = {}\n",
    "\n",
    "if (Object.keys(emptyObj).length === 0) {\n",
    "    console.log(\"Object is empty\");\n",
    "}\n",
    "\n",
    "// Nullish Coalescing Operator (??): null undefined\n",
    "\n",
    "let val1;\n",
    "// val1 = 5 ?? 10\n",
    "// val1 = null ?? 10\n",
    "// val1 = undefined ?? 15\n",
    "val1 = null ?? 10 ?? 20\n",
    "\n",
    "\n",
    "\n",
    "console.log(val1);\n",
    "\n",
    "// Terniary Operator\n",
    "\n",
    "// condition ? true : false\n",
    "\n",
    "const iceTeaPrice = 100\n",
    "iceTeaPrice <= 80 ? console.log(\"less than 80\") : console.log(\"more than 80\")"
   ]
  },
  {
   "cell_type": "markdown",
   "id": "f87c855f-f3a0-465d-870b-0bf55e570059",
   "metadata": {},
   "source": [
    "## Iterations"
   ]
  },
  {
   "cell_type": "markdown",
   "id": "82d1f4b1-b0e2-44a1-aeba-78e3f9588128",
   "metadata": {},
   "source": [
    "### For Loop"
   ]
  },
  {
   "cell_type": "code",
   "execution_count": 5,
   "id": "b98c3785-0928-426d-81f4-3ac83d20733f",
   "metadata": {},
   "outputs": [
    {
     "name": "stdout",
     "output_type": "stream",
     "text": [
      "Value of i is 1\n",
      "Value of i is 2\n",
      "Value of i is 3\n",
      "Value of i is 4\n",
      "Detected 5\n",
      "Value of i is 6\n",
      "Value of i is 7\n",
      "Value of i is 8\n",
      "Value of i is 9\n",
      "Value of i is 10\n",
      "Value of i is 11\n",
      "Value of i is 12\n",
      "Value of i is 13\n",
      "Value of i is 14\n",
      "Value of i is 15\n",
      "Value of i is 16\n",
      "Value of i is 17\n",
      "Value of i is 18\n",
      "Value of i is 19\n",
      "Value of i is 20\n"
     ]
    }
   ],
   "source": [
    "// for\n",
    "\n",
    "for (let i = 0; i <= 10; i++) {\n",
    "    const element = i;\n",
    "    if (element == 5) {\n",
    "        //console.log(\"5 is best number\");\n",
    "    }\n",
    "    //console.log(element);\n",
    "    \n",
    "}\n",
    "\n",
    "// console.log(element);\n",
    "\n",
    "for (let i = 1; i <= 10; i++) {\n",
    "    //console.log(`Outer loop value: ${i}`);\n",
    "   for (let j = 1; j <= 10; j++) {\n",
    "    //console.log(`Inner loop value ${j} and inner loop ${i}`);\n",
    "    //console.log(i + '*' + j + ' = ' + i*j );\n",
    "   }\n",
    "    \n",
    "}\n",
    "let myArray = [\"flash\", \"batman\", \"superman\"]\n",
    "//console.log(myArray.length);\n",
    "for (let index = 0; index < myArray.length; index++) {\n",
    "    const element = myArray[index];\n",
    "    //console.log(element);\n",
    "    \n",
    "}\n",
    "\n",
    "\n",
    "// break and continue\n",
    "\n",
    "// for (let index = 1; index <= 20; index++) {\n",
    "//     if (index == 5) {\n",
    "//         console.log(`Detected 5`);\n",
    "//         break\n",
    "//     }\n",
    "//    console.log(`Value of i is ${index}`);\n",
    "    \n",
    "// }\n",
    "\n",
    "for (let index = 1; index <= 20; index++) {\n",
    "    if (index == 5) {\n",
    "        console.log(`Detected 5`);\n",
    "        continue\n",
    "    }\n",
    "   console.log(`Value of i is ${index}`);\n",
    "    \n",
    "}"
   ]
  },
  {
   "cell_type": "markdown",
   "id": "c0c65a4c-7fd0-486b-975d-22b6129e505f",
   "metadata": {},
   "source": [
    "### While and Do While Loop"
   ]
  },
  {
   "cell_type": "code",
   "execution_count": 6,
   "id": "e4fdda89-d2fe-4414-993d-12d0752ff105",
   "metadata": {},
   "outputs": [
    {
     "name": "stdout",
     "output_type": "stream",
     "text": [
      "Score is 11\n"
     ]
    },
    {
     "data": {
      "text/plain": [
       "\u001b[33m11\u001b[39m"
      ]
     },
     "execution_count": 6,
     "metadata": {},
     "output_type": "execute_result"
    }
   ],
   "source": [
    "\n",
    "let index = 0\n",
    "// while (index <= 10) {\n",
    "//     console.log(`Value of index is ${index}`);\n",
    "//     index = index + 2\n",
    "// }\n",
    "\n",
    "let myArray = ['flash', \"batman\", \"superman\"]\n",
    "\n",
    "let arr = 0\n",
    "while (arr < myArray.length) {\n",
    "    //console.log(`Value is ${myArray[arr]}`);\n",
    "    arr = arr + 1\n",
    "}\n",
    "\n",
    "let score = 11\n",
    "\n",
    "do {\n",
    "    console.log(`Score is ${score}`);\n",
    "    score++\n",
    "} while (score <= 10);"
   ]
  }
 ],
 "metadata": {
  "kernelspec": {
   "display_name": "Deno",
   "language": "typescript",
   "name": "deno"
  },
  "language_info": {
   "file_extension": ".ts",
   "mimetype": "text/x.typescript",
   "name": "typescript",
   "nb_converter": "script",
   "pygments_lexer": "typescript",
   "version": "5.3.3"
  }
 },
 "nbformat": 4,
 "nbformat_minor": 5
}
