{
 "cells": [
  {
   "cell_type": "markdown",
   "id": "d10046dd-f7ee-4948-805c-013ecec4b015",
   "metadata": {},
   "source": [
    "## Table of Contents"
   ]
  },
  {
   "cell_type": "markdown",
   "id": "a21e3856-b487-4a04-891b-112ddeeed1d8",
   "metadata": {},
   "source": [
    "### for of and map"
   ]
  },
  {
   "cell_type": "code",
   "execution_count": 2,
   "id": "2f572225-79fb-4e6c-8782-8fc3a66865ad",
   "metadata": {},
   "outputs": [],
   "source": [
    "// for of\n",
    "\n",
    "// [\"\", \"\", \"\"]\n",
    "// [{}, {}, {}]\n",
    "\n",
    "const arr = [1, 2, 3, 4, 5]\n",
    "\n",
    "for (const num of arr) {\n",
    "    //console.log(num);\n",
    "}\n",
    "\n",
    "const greetings = \"Hello world!\"\n",
    "for (const greet of greetings) {\n",
    "    //console.log(`Each char is ${greet}`)\n",
    "}\n",
    "\n",
    "// Maps\n",
    "\n",
    "const map = new Map()\n",
    "map.set('IN', \"India\")\n",
    "map.set('USA', \"United States of America\")\n",
    "map.set('Fr', \"France\")\n",
    "map.set('IN', \"India\")\n",
    "\n",
    "\n",
    "// console.log(map);\n",
    "\n",
    "for (const [key, value] of map) {\n",
    "    // console.log(key, ':-', value);\n",
    "}\n",
    "\n",
    "const myObject = {\n",
    "    game1: 'NFS',\n",
    "    game2: 'Spiderman'\n",
    "}\n",
    "\n",
    "// for (const [key, value] of myObject) {\n",
    "//     console.log(key, ':-', value);\n",
    "    \n",
    "// }"
   ]
  },
  {
   "cell_type": "markdown",
   "id": "917c96d2-6771-4ecc-b54f-1f95430f6311",
   "metadata": {},
   "source": [
    "### for in and Iterating Objects"
   ]
  },
  {
   "cell_type": "code",
   "execution_count": 1,
   "id": "ea001ede-cec5-4bc5-9d48-1cc7c2db1483",
   "metadata": {},
   "outputs": [],
   "source": [
    "const myObject = {\n",
    "    js: 'javascript',\n",
    "    cpp: 'C++',\n",
    "    rb: \"ruby\",\n",
    "    swift: \"swift by apple\"\n",
    "}\n",
    "\n",
    "for (const key in myObject) {\n",
    "    //console.log(`${key} shortcut is for ${myObject[key]}`);\n",
    "}\n",
    "\n",
    "const programming = [\"js\", \"rb\", \"py\", \"java\", \"cpp\"]\n",
    "\n",
    "for (const key in programming) {\n",
    "    //console.log(programming[key]);\n",
    "}\n",
    "\n",
    "// const map = new Map()\n",
    "// map.set('IN', \"India\")\n",
    "// map.set('USA', \"United States of America\")\n",
    "// map.set('Fr', \"France\")\n",
    "// map.set('IN', \"India\")\n",
    "\n",
    "// for (const key in map) {\n",
    "//     console.log(key);\n",
    "// }"
   ]
  },
  {
   "cell_type": "markdown",
   "id": "8dc649f4-a1de-42c1-a6b5-72f939d84e25",
   "metadata": {},
   "source": [
    "### for each"
   ]
  },
  {
   "cell_type": "code",
   "execution_count": 2,
   "id": "0d21d222-77e0-4f01-b0bc-f2a26589db5a",
   "metadata": {},
   "outputs": [
    {
     "name": "stdout",
     "output_type": "stream",
     "text": [
      "javascript\n",
      "java\n",
      "python\n"
     ]
    }
   ],
   "source": [
    "const coding = [\"js\", \"ruby\", \"java\", \"python\", \"cpp\"]\n",
    "\n",
    "// coding.forEach( function (val){\n",
    "//     console.log(val);\n",
    "// } )\n",
    "\n",
    "// coding.forEach( (item) => {\n",
    "//     console.log(item);\n",
    "// } )\n",
    "\n",
    "// function printMe(item){\n",
    "//     console.log(item);\n",
    "// }\n",
    "\n",
    "// coding.forEach(printMe)\n",
    "\n",
    "// coding.forEach( (item, index, arr)=> {\n",
    "//     console.log(item, index, arr);\n",
    "// } )\n",
    "\n",
    "const myCoding = [\n",
    "    {\n",
    "        languageName: \"javascript\",\n",
    "        languageFileName: \"js\"\n",
    "    },\n",
    "    {\n",
    "        languageName: \"java\",\n",
    "        languageFileName: \"java\"\n",
    "    },\n",
    "    {\n",
    "        languageName: \"python\",\n",
    "        languageFileName: \"py\"\n",
    "    },\n",
    "]\n",
    "\n",
    "myCoding.forEach( (item) => {\n",
    "    \n",
    "    console.log(item.languageName);\n",
    "} )"
   ]
  },
  {
   "cell_type": "code",
   "execution_count": null,
   "id": "bf5a3f38-c8e0-44fc-a3fa-15132cedeaac",
   "metadata": {},
   "outputs": [],
   "source": []
  }
 ],
 "metadata": {
  "kernelspec": {
   "display_name": "Deno",
   "language": "typescript",
   "name": "deno"
  },
  "language_info": {
   "file_extension": ".ts",
   "mimetype": "text/x.typescript",
   "name": "typescript",
   "nb_converter": "script",
   "pygments_lexer": "typescript",
   "version": "5.3.3"
  }
 },
 "nbformat": 4,
 "nbformat_minor": 5
}
