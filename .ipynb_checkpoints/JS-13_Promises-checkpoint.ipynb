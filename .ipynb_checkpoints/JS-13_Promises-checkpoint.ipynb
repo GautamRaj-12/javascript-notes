{
 "cells": [
  {
   "cell_type": "markdown",
   "id": "261490b9-fa58-4fed-8f0c-83b797ce53ec",
   "metadata": {},
   "source": [
    "## Table of Contents"
   ]
  },
  {
   "cell_type": "markdown",
   "id": "a8d13966-b5e6-416d-8f9c-10e153ebf569",
   "metadata": {},
   "source": [
    "## Promise\n",
    "- The Promise object represents the eventual completion (or failure) of an asynchronous operation and its resulting value."
   ]
  },
  {
   "cell_type": "markdown",
   "id": "bdbdf324-d467-4e5e-9b3f-bc1ff27d6e77",
   "metadata": {},
   "source": [
    "## States of a promise\n",
    "- **pending**: initial state, neither fulfilled nor rejected.\n",
    "- **fulfilled**: meaning that the operation was completed successfully.\n",
    "- **rejected**: meaning that the operation failed."
   ]
  },
  {
   "cell_type": "code",
   "execution_count": 4,
   "id": "aaec9385-2fea-4048-82ae-ff92d88e8dad",
   "metadata": {},
   "outputs": [
    {
     "data": {
      "text/plain": [
       "Promise { \u001b[36m<pending>\u001b[39m }"
      ]
     },
     "execution_count": 4,
     "metadata": {},
     "output_type": "execute_result"
    }
   ],
   "source": [
    "const promiseOne = new Promise(function(resolve,reject){\n",
    "    // Do an async task\n",
    "    // DB calls\n",
    "    // Cryptography related\n",
    "    // Network calls\n",
    "    setTimeout(function(){\n",
    "        console.log('Async task is complete');\n",
    "        resolve()\n",
    "    },1000)\n",
    "})\n",
    "\n",
    "promiseOne.then(function(){\n",
    "    console.log(\"Promise Consumed\");\n",
    "})"
   ]
  },
  {
   "cell_type": "code",
   "execution_count": 5,
   "id": "3da003a5-8b78-4328-9602-ea6fa2d1013e",
   "metadata": {},
   "outputs": [
    {
     "name": "stdout",
     "output_type": "stream",
     "text": [
      "Async task is complete\n",
      "Promise Consumed\n"
     ]
    },
    {
     "data": {
      "text/plain": [
       "Promise { \u001b[36m<pending>\u001b[39m }"
      ]
     },
     "execution_count": 5,
     "metadata": {},
     "output_type": "execute_result"
    }
   ],
   "source": [
    "new Promise(function(resolve,reject){\n",
    "    setTimeout(function(){\n",
    "        console.log('Async task 2');\n",
    "        resolve()\n",
    "    },1000)\n",
    "}).then(function(){\n",
    "    console.log(\"Async 2 resolved\");\n",
    "})"
   ]
  },
  {
   "cell_type": "code",
   "execution_count": 6,
   "id": "351dfc9c-6443-4251-877f-12bca0f1b780",
   "metadata": {},
   "outputs": [
    {
     "name": "stdout",
     "output_type": "stream",
     "text": [
      "Async task 2\n",
      "Async 2 resolved\n"
     ]
    },
    {
     "data": {
      "text/plain": [
       "Promise { \u001b[36m<pending>\u001b[39m }"
      ]
     },
     "execution_count": 6,
     "metadata": {},
     "output_type": "execute_result"
    }
   ],
   "source": [
    "const promiseThree = new Promise(function(resolve,reject){\n",
    "    setTimeout(function(){\n",
    "        console.log('Async task 2');\n",
    "        resolve({username:\"Gautam\",email:\"gautam@example.com\"})\n",
    "    },1000)\n",
    "})\n",
    "\n",
    "promiseThree.then(function(user){\n",
    "    console.log(user)\n",
    "})"
   ]
  },
  {
   "cell_type": "code",
   "execution_count": null,
   "id": "f3a393dd-a943-4e1a-b93e-78c5522e9d17",
   "metadata": {},
   "outputs": [],
   "source": []
  }
 ],
 "metadata": {
  "kernelspec": {
   "display_name": "Deno",
   "language": "typescript",
   "name": "deno"
  },
  "language_info": {
   "file_extension": ".ts",
   "mimetype": "text/x.typescript",
   "name": "typescript",
   "nb_converter": "script",
   "pygments_lexer": "typescript",
   "version": "5.3.3"
  }
 },
 "nbformat": 4,
 "nbformat_minor": 5
}
