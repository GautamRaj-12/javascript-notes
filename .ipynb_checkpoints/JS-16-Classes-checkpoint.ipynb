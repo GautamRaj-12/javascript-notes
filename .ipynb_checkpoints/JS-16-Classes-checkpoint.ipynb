{
 "cells": [
  {
   "cell_type": "code",
   "execution_count": 1,
   "id": "81bc0740-119c-4372-aba9-56bc04f5e497",
   "metadata": {},
   "outputs": [
    {
     "name": "stdout",
     "output_type": "stream",
     "text": [
      "123abc\n"
     ]
    }
   ],
   "source": [
    "class User{\n",
    "    constructor(username,email,password){\n",
    "        this.username = username;\n",
    "        this.email = email;\n",
    "        this.password = password;\n",
    "    }\n",
    "    //method\n",
    "    encryptPassword(){\n",
    "        return `${this.password}abc`;\n",
    "    }\n",
    "    changeUsername(){\n",
    "        return `${this.username.toUpperCase()}`;\n",
    "    }\n",
    "}\n",
    "\n",
    "const user = new User(\"Gautam\",\"gautam@gmail.com\",\"123\")\n",
    "console.log(user.encryptPassword())"
   ]
  },
  {
   "cell_type": "code",
   "execution_count": null,
   "id": "8ca70f4e-b2af-48cf-b745-35c6bd12f268",
   "metadata": {},
   "outputs": [],
   "source": []
  }
 ],
 "metadata": {
  "kernelspec": {
   "display_name": "Deno",
   "language": "typescript",
   "name": "deno"
  },
  "language_info": {
   "file_extension": ".ts",
   "mimetype": "text/x.typescript",
   "name": "typescript",
   "nb_converter": "script",
   "pygments_lexer": "typescript",
   "version": "5.3.3"
  }
 },
 "nbformat": 4,
 "nbformat_minor": 5
}
