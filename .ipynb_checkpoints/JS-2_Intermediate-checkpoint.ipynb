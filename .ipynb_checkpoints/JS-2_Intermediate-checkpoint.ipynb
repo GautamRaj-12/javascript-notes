{
 "cells": [
  {
   "cell_type": "markdown",
   "id": "37055d0e-6770-4334-994e-5d26fe6fdb06",
   "metadata": {},
   "source": [
    "## Table of Contents\n",
    "* [Arrays](#arrays)\n",
    "* [Core Characterstics](#characterstics)\n",
    "* [Array Constructor](#constructor)\n",
    "* [Array properties](#properties)\n",
    "* [Array methods](#methods)\n",
    "    * [Array.at()](#at)\n",
    "    * [Array.indexOf()](#indexOf)\n",
    "    * [Array.lastIndexOf()](#lastIndexOf)\n",
    "    * [Array.push()](#push)\n",
    "    * [Array.pop()](#pop)\n",
    "    * [Array.unshift()](#unshift)\n",
    "    * [Array.shift()](#shift)"
   ]
  },
  {
   "cell_type": "markdown",
   "id": "c8437c47-580a-4431-8241-e045527f9579",
   "metadata": {},
   "source": [
    "## Arrays <a id=\"arrays\"></a>\n",
    "- The Array object, enables storing a collection of multiple items under a single variable name.\n",
    "- In Javascript arrays aren't ***primitives*** but are instead ***Array Objects***."
   ]
  },
  {
   "cell_type": "markdown",
   "id": "191c27da-d7db-4b09-891a-703d1f32a3ed",
   "metadata": {},
   "source": [
    "### Core Characterstics of Arrays <a id=\"characterstics\"></a>\n",
    "- JS arrays are ***resizable*** unlike many other programming languages\n",
    "- JS arrays can contain ***mix of different data types***\n",
    "- JS arrays are ***not associative arrays*** ➡ array elements cannot be accessed using non negative integers.\n",
    "- JS arrays are ***zero indexed***\n",
    "- JS ***All built-in copy operations*** create ***SHALLOW COPIES*** rather than ***DEEP COPIES*** (A shallow copy of an object is a copy whose properties share the same references ➡ That means If i change the new object, the main object will also be changed)\n",
    "- ***Sparse Arrays:*** Arrays can contain \"empty slots\", which are not the same as slots filled with the value undefined."
   ]
  },
  {
   "cell_type": "code",
   "execution_count": 19,
   "id": "f255db22-9dc5-4d90-81bd-88a1019b5b98",
   "metadata": {},
   "outputs": [
    {
     "name": "stdout",
     "output_type": "stream",
     "text": [
      "\u001b[33m20\u001b[39m\n",
      "\u001b[33m25\u001b[39m\n",
      "\u001b[33m15\u001b[39m\n",
      "\u001b[33m28\u001b[39m\n",
      "\u001b[90mundefined\u001b[39m\n",
      "\u001b[90mundefined\u001b[39m\n",
      "Frameworks Known:  [ \u001b[32m\"Bootstrap\"\u001b[39m, \u001b[32m\"Tailwind\"\u001b[39m, \u001b[32m\"React\"\u001b[39m ]\n",
      "Profile: [ \u001b[32m\"Gautam\"\u001b[39m, \u001b[33m23\u001b[39m, \u001b[33mtrue\u001b[39m ]\n"
     ]
    }
   ],
   "source": [
    "const marks = [20,25,15,28,]\n",
    "//Accessing elements one at a time\n",
    "console.log(marks[0])\n",
    "console.log(marks[1])\n",
    "console.log(marks[2])\n",
    "console.log(marks[\"3\"]) //It's also possible to quote the array indices.\n",
    "console.log(marks[4]) //empty slot - undefined \n",
    "//But can't do the following - can't use arbitrary strings to access\n",
    "console.log(marks[\"one\"]) //undefined\n",
    "\n",
    "const frameworksKnown = [\"Bootstrap\", \"Tailwind\", \"React\"]\n",
    "console.log(\"Frameworks Known: \", frameworksKnown) //No for loop required like other languages to print all elements in console.log()\n",
    "\n",
    "// Array of mix types\n",
    "const profile = [\"Gautam\", 23, true]\n",
    "console.log(\"Profile:\", profile)"
   ]
  },
  {
   "cell_type": "markdown",
   "id": "b6b4ca6c-2c5f-4769-8fa0-4bbf34f54359",
   "metadata": {},
   "source": [
    "### Array Constructor <a id=\"constructor\"></a>\n",
    "- The Array() constructor creates Array objects.\n",
    "\n",
    "**Syntax**\n",
    "  - new Array() or Array()\n",
    "  - new Array(element1) *or* Array(element1)\n",
    "  - new Array(element1, element2) *or* Array(element1, element2)\n",
    "  - new Array(element1, element2, …, elementN) *or* Array(element1, element2, …, elementN)\n",
    "  - new Array(arrayLength) *or* Array(arrayLength)\n",
    "**Note:** Array() can be called with or without new. Both create a new Array instance."
   ]
  },
  {
   "cell_type": "code",
   "execution_count": 2,
   "id": "a6fe48a9-eb77-4639-8b33-7cac9c5b3005",
   "metadata": {},
   "outputs": [
    {
     "name": "stdout",
     "output_type": "stream",
     "text": [
      "\u001b[33m2\u001b[39m\n",
      "Apple\n"
     ]
    }
   ],
   "source": [
    "const fruits = new Array(\"Apple\", \"Banana\");\n",
    "\n",
    "console.log(fruits.length); // 2\n",
    "console.log(fruits[0]); // \"Apple\""
   ]
  },
  {
   "cell_type": "markdown",
   "id": "522e0451-918e-47a0-8f12-e8494881d496",
   "metadata": {},
   "source": [
    "### Array Properties <a id=\"properties\"></a>\n",
    "***length:*** The length data property of an Array instance represents the number of elements in that array."
   ]
  },
  {
   "cell_type": "code",
   "execution_count": 3,
   "id": "84d9fceb-9b60-4b7c-be57-5d3d607b67ef",
   "metadata": {},
   "outputs": [
    {
     "name": "stdout",
     "output_type": "stream",
     "text": [
      "\u001b[33m3\u001b[39m\n"
     ]
    }
   ],
   "source": [
    "const frameworksKnown = [\"Bootstrap\", \"Tailwind\", \"React\"]\n",
    "console.log(frameworksKnown.length)"
   ]
  },
  {
   "cell_type": "markdown",
   "id": "10797163-b8d4-4c45-bd73-ff41c64c44c7",
   "metadata": {},
   "source": [
    "## Array Methods"
   ]
  },
  {
   "cell_type": "markdown",
   "id": "eebe0660-ef30-46a5-a9cb-4c81dd826dd0",
   "metadata": {},
   "source": [
    "### Array.at() <a id=\"at\"></a>\n",
    "- The at() method of Array instances takes an integer value and returns the item at that index.\n",
    "- Allows for positive and negative integrs.\n",
    "- Negative integers count back from the last item in the array."
   ]
  },
  {
   "cell_type": "code",
   "execution_count": 47,
   "id": "490ffc52-b783-4a59-b797-9266eeffa7e2",
   "metadata": {},
   "outputs": [
    {
     "name": "stdout",
     "output_type": "stream",
     "text": [
      "Tailwind\n",
      "Express\n"
     ]
    }
   ],
   "source": [
    "//at method\n",
    "const frameworksKnown = [\"Bootstrap\", \"Tailwind\", \"React\",\"Express\", \"Node\"]\n",
    "console.log(frameworksKnown.at(1)) //Tailwind\n",
    "console.log(frameworksKnown.at(-2)) // Express"
   ]
  },
  {
   "cell_type": "markdown",
   "id": "5c724c17-8145-40fb-91f5-c17b2268bff5",
   "metadata": {},
   "source": [
    "### Array.indexOf() <a id=\"indexOf\"></a>\n",
    "- The indexOf() method returns the first index at which a given element can be found in the array, or -1 if it is not present.\n",
    "- Syntax\n",
    "  - indexOf(searchElement)\n",
    "  - indexOf(searchElement, fromIndex)\n",
    "- We CANNOT use indexOf() to search for **NaN**.\n",
    "- The indexOf() method skips empty slots in sparse arrays.\n",
    "- It uses **strict equality**."
   ]
  },
  {
   "cell_type": "code",
   "execution_count": 33,
   "id": "57d82406-d37e-4134-a94f-77ca0b4dd597",
   "metadata": {
    "scrolled": true
   },
   "outputs": [
    {
     "name": "stdout",
     "output_type": "stream",
     "text": [
      "\u001b[33m0\u001b[39m\n",
      "\u001b[33m-1\u001b[39m\n",
      "\u001b[33m-1\u001b[39m\n",
      "\u001b[33m-1\u001b[39m\n",
      "\u001b[33m3\u001b[39m\n",
      "\u001b[33m2\u001b[39m\n"
     ]
    }
   ],
   "source": [
    "const numbers = [2, 5, 9, 2, 6]\n",
    "console.log(numbers.indexOf(2)) //0\n",
    "console.log(numbers.indexOf(7)) //-1\n",
    "console.log(numbers.indexOf(5,2)) //-1 As 5 is not present after 2nd index\n",
    "console.log(numbers.indexOf(2,-1))\n",
    "console.log(numbers.indexOf(2,-2))\n",
    "\n",
    "//In sparse arrays\n",
    "const frameworksKnownTwo = [\"Bootstrap\", \"Tailwind\",\"\",\"React\",\"Express\", \"Node\"]\n",
    "console.log(frameworksKnown.indexOf(\"React\")) //2 It still gives 2 as indexOf skips empty slots."
   ]
  },
  {
   "cell_type": "markdown",
   "id": "4970e3a9-86f8-44cb-8aa4-2fcd458f220d",
   "metadata": {},
   "source": [
    "### Array.lastIndexOf() <a id=\"lastIndexOf\"></a>\n",
    "- The lastIndexOf() method returns the last index at which a given element can be found in the array, or -1 if it is not present.\n",
    "- The array is searched backwards.\n",
    "- Syntax : Same as **indexOf()** method.\n",
    "- We CANNOT use indexOf() to search for NaN.\n",
    "- We CANNOT use lastIndexOf() to search for empty slots in sparse arrays."
   ]
  },
  {
   "cell_type": "code",
   "execution_count": 23,
   "id": "c30ba160-0465-4d9e-b727-81591b91042d",
   "metadata": {},
   "outputs": [
    {
     "name": "stdout",
     "output_type": "stream",
     "text": [
      "\u001b[33m3\u001b[39m\n",
      "\u001b[33m-1\u001b[39m\n",
      "\u001b[33m0\u001b[39m\n",
      "\u001b[33m0\u001b[39m\n"
     ]
    }
   ],
   "source": [
    "const numbers = [2, 5, 9, 2]\n",
    "console.log(numbers.lastIndexOf(2)); // 3\n",
    "console.log(numbers.lastIndexOf(7)); // -1\n",
    "console.log(numbers.lastIndexOf(2, 2)); // 0\n",
    "console.log(numbers.lastIndexOf(2, -2)); // 0"
   ]
  },
  {
   "cell_type": "markdown",
   "id": "ebbccaa9-732d-40ce-b1a4-fff11d8967f6",
   "metadata": {},
   "source": [
    "### Array.push() <a id=\"push\"></a>\n",
    "- The push() method adds the specified elements to the **end of an array** and returns the new length of the array.\n",
    "- The push() method is a **mutating method**. It changes the **length** and the content of **this**.\n",
    "- Syntax\n",
    "  - push()\n",
    "  - push(element1)\n",
    "  - push(element1, element2)\n",
    "  - push(element1, element2,…,elementN)\n",
    "- Return\n",
    "  - >The new length property of the object upon which the method was called.\n"
   ]
  },
  {
   "cell_type": "code",
   "execution_count": 46,
   "id": "598ffc02-8600-4099-b116-b9007a8e881a",
   "metadata": {},
   "outputs": [
    {
     "name": "stdout",
     "output_type": "stream",
     "text": [
      "Original array: [ \u001b[32m\"Bootstrap\"\u001b[39m, \u001b[32m\"Tailwind\"\u001b[39m, \u001b[32m\"React\"\u001b[39m, \u001b[32m\"Express\"\u001b[39m, \u001b[32m\"Node\"\u001b[39m ]\n",
      "\u001b[33m6\u001b[39m\n",
      "After Addition: [ \u001b[32m\"Bootstrap\"\u001b[39m, \u001b[32m\"Tailwind\"\u001b[39m, \u001b[32m\"React\"\u001b[39m, \u001b[32m\"Express\"\u001b[39m, \u001b[32m\"Node\"\u001b[39m, \u001b[32m\"Material UI\"\u001b[39m ]\n"
     ]
    }
   ],
   "source": [
    "const frameworksKnown = [\"Bootstrap\", \"Tailwind\",\"React\",\"Express\", \"Node\"]\n",
    "console.log(\"Original array:\",frameworksKnown)\n",
    "console.log(frameworksKnown.push(\"Material UI\")) //6 - push method will return the updated length \n",
    "console.log(\"After Addition:\",frameworksKnown)"
   ]
  },
  {
   "cell_type": "code",
   "execution_count": 61,
   "id": "c54090c4-36e4-46b2-ac24-1ab7a9f2cdac",
   "metadata": {},
   "outputs": [
    {
     "name": "stdout",
     "output_type": "stream",
     "text": [
      "[ \u001b[32m\"football\"\u001b[39m, \u001b[32m\"cricket\"\u001b[39m, \u001b[32m\"badminton\"\u001b[39m, \u001b[32m\"swimming\"\u001b[39m ]\n",
      "\u001b[33m4\u001b[39m\n",
      "[ \u001b[32m\"CM\"\u001b[39m, \u001b[32m\"DM\"\u001b[39m, \u001b[32m\"CAM\"\u001b[39m, [ \u001b[32m\"LM\"\u001b[39m, \u001b[32m\"RM\"\u001b[39m ] ]\n",
      "\u001b[33m5\u001b[39m\n",
      "[\n",
      "  \u001b[32m\"striker\"\u001b[39m,\n",
      "  \u001b[32m\"second striker\"\u001b[39m,\n",
      "  \u001b[32m\"centre forward\"\u001b[39m,\n",
      "  \u001b[32m\"right winger\"\u001b[39m,\n",
      "  \u001b[32m\"left winger\"\u001b[39m\n",
      "]\n"
     ]
    }
   ],
   "source": [
    "const sports = [\"football\", \"cricket\"];\n",
    "const total = sports.push(\"badminton\", \"swimming\");\n",
    "console.log(sports); \n",
    "\n",
    "const midFieldPositions = [\"CM\",\"DM\",\"CAM\"]\n",
    "const anotherMidFieldPositions = [\"LM\",\"RM\"]\n",
    "console.log(midFieldPositions.push(anotherMidFieldPositions))\n",
    "console.log(midFieldPositions)\n",
    "\n",
    "const forwardPositions = [\"striker\", \"second striker\", \"centre forward\"]\n",
    "const anotherForwardPositions = [\"right winger\",\"left winger\"]\n",
    "console.log(forwardPositions.push(...anotherForwardPositions))\n",
    "console.log(forwardPositions)"
   ]
  },
  {
   "cell_type": "markdown",
   "id": "cee15305-152d-4e2f-88a5-489f0a8c4810",
   "metadata": {},
   "source": [
    "### Array.pop() <a id=\"pop\"></a>\n",
    "- The pop() method removes the last element from an array and returns that element.\n",
    "- This method changes the length of the array.\n",
    "- Syntax\n",
    "  - pop()\n",
    "- Return\n",
    "  - >The removed element from the array; undefined if the array is empty."
   ]
  },
  {
   "cell_type": "code",
   "execution_count": 45,
   "id": "c87df373-886d-41e4-83e2-eb0d0e5e0554",
   "metadata": {},
   "outputs": [
    {
     "name": "stdout",
     "output_type": "stream",
     "text": [
      "Original array: [ \u001b[32m\"Bootstrap\"\u001b[39m, \u001b[32m\"Tailwind\"\u001b[39m, \u001b[32m\"React\"\u001b[39m, \u001b[32m\"Express\"\u001b[39m, \u001b[32m\"Node\"\u001b[39m, \u001b[32m\"MaterialUI\"\u001b[39m ]\n",
      "Removed element: MaterialUI\n",
      "After Removal: [ \u001b[32m\"Bootstrap\"\u001b[39m, \u001b[32m\"Tailwind\"\u001b[39m, \u001b[32m\"React\"\u001b[39m, \u001b[32m\"Express\"\u001b[39m, \u001b[32m\"Node\"\u001b[39m ]\n"
     ]
    }
   ],
   "source": [
    "const frameworksKnown = [\"Bootstrap\", \"Tailwind\",\"React\",\"Express\", \"Node\", \"MaterialUI\"]\n",
    "console.log(\"Original array:\",frameworksKnown)\n",
    "console.log(\"Removed element:\",frameworksKnown.pop())\n",
    "console.log(\"After Removal:\",frameworksKnown)"
   ]
  },
  {
   "cell_type": "markdown",
   "id": "74f3fd14-9fa7-4fc5-ae39-17611add74c5",
   "metadata": {},
   "source": [
    "### Array.unshift() <a id=\"unshift\"></a>\n",
    "- The unshift() method adds the specified elements to the beginning of an array and returns the new length of the array.\n",
    "- Syntax\n",
    "  - unshift()\n",
    "  - unshift(element1)\n",
    "  - unshift(element1, element2)\n",
    "  - unshift(element1, element2,…,elementN)\n",
    "- Return\n",
    "  - > The new length property of the object upon which the method was called. \n"
   ]
  },
  {
   "cell_type": "code",
   "execution_count": 48,
   "id": "d07d1a02-5967-41a2-86d7-79bc7cde3791",
   "metadata": {},
   "outputs": [
    {
     "name": "stdout",
     "output_type": "stream",
     "text": [
      "Original array: [ \u001b[32m\"Bootstrap\"\u001b[39m, \u001b[32m\"Tailwind\"\u001b[39m, \u001b[32m\"React\"\u001b[39m, \u001b[32m\"Express\"\u001b[39m, \u001b[32m\"Node\"\u001b[39m ]\n",
      "\u001b[33m6\u001b[39m\n",
      "After Addition: [ \u001b[32m\"Material UI\"\u001b[39m, \u001b[32m\"Bootstrap\"\u001b[39m, \u001b[32m\"Tailwind\"\u001b[39m, \u001b[32m\"React\"\u001b[39m, \u001b[32m\"Express\"\u001b[39m, \u001b[32m\"Node\"\u001b[39m ]\n"
     ]
    }
   ],
   "source": [
    "const frameworksKnown = [\"Bootstrap\", \"Tailwind\",\"React\",\"Express\", \"Node\"]\n",
    "console.log(\"Original array:\",frameworksKnown)\n",
    "console.log(frameworksKnown.unshift(\"Material UI\")) //6 - unshift method will return the updated length \n",
    "console.log(\"After Addition:\",frameworksKnown)"
   ]
  },
  {
   "cell_type": "markdown",
   "id": "edc711d2-26bf-4c8f-8321-5313b4130b2a",
   "metadata": {},
   "source": [
    "> - If multiple elements are passed as parameters, they're inserted in chunk at the beginning of the object, in the exact same order they were passed as parameters.\n",
    "> - Hence, calling unshift() with n arguments once, or calling it n times with 1 argument don't yield the same results. "
   ]
  },
  {
   "cell_type": "code",
   "execution_count": 62,
   "id": "dca4467f-e5ae-4fdd-8571-24d118d6d794",
   "metadata": {},
   "outputs": [
    {
     "name": "stdout",
     "output_type": "stream",
     "text": [
      "[ \u001b[33m1\u001b[39m, \u001b[33m2\u001b[39m, \u001b[33m3\u001b[39m, \u001b[33m4\u001b[39m, \u001b[33m5\u001b[39m, \u001b[33m6\u001b[39m ]\n",
      "[ \u001b[33m3\u001b[39m, \u001b[33m2\u001b[39m, \u001b[33m1\u001b[39m, \u001b[33m4\u001b[39m, \u001b[33m5\u001b[39m, \u001b[33m6\u001b[39m ]\n"
     ]
    }
   ],
   "source": [
    "let arr = [4, 5, 6];\n",
    "arr.unshift(1, 2, 3);\n",
    "console.log(arr); // [1, 2, 3, 4, 5, 6]\n",
    "\n",
    "arr = [4, 5, 6];\n",
    "arr.unshift(1);\n",
    "arr.unshift(2);\n",
    "arr.unshift(3);\n",
    "console.log(arr); // [3, 2, 1, 4, 5, 6]"
   ]
  },
  {
   "cell_type": "markdown",
   "id": "c5f42469-5f11-4e25-a445-fb6657247f10",
   "metadata": {},
   "source": [
    "### Array.shift() <a id=\"shift\"></a>\n",
    "- The shift() method removes the first element from an array and returns that removed element.\n",
    "- This method changes the length of the array.\n",
    "- Syntax\n",
    "  - shift()\n",
    "- Return\n",
    "  - > The removed element from the array; undefined if the array is empty."
   ]
  },
  {
   "cell_type": "code",
   "execution_count": 63,
   "id": "453810f7-0484-48de-8d90-17367149ab44",
   "metadata": {},
   "outputs": [
    {
     "name": "stdout",
     "output_type": "stream",
     "text": [
      "Original array: [ \u001b[32m\"Bootstrap\"\u001b[39m, \u001b[32m\"Tailwind\"\u001b[39m, \u001b[32m\"React\"\u001b[39m, \u001b[32m\"Express\"\u001b[39m, \u001b[32m\"Node\"\u001b[39m, \u001b[32m\"MaterialUI\"\u001b[39m ]\n",
      "Removed element: Bootstrap\n",
      "After Removal: [ \u001b[32m\"Tailwind\"\u001b[39m, \u001b[32m\"React\"\u001b[39m, \u001b[32m\"Express\"\u001b[39m, \u001b[32m\"Node\"\u001b[39m, \u001b[32m\"MaterialUI\"\u001b[39m ]\n"
     ]
    }
   ],
   "source": [
    "const frameworksKnown = [\"Bootstrap\", \"Tailwind\",\"React\",\"Express\", \"Node\", \"MaterialUI\"]\n",
    "console.log(\"Original array:\",frameworksKnown)\n",
    "console.log(\"Removed element:\",frameworksKnown.shift())\n",
    "console.log(\"After Removal:\",frameworksKnown)"
   ]
  },
  {
   "cell_type": "code",
   "execution_count": null,
   "id": "3441388e-07e3-4372-a51d-7df24a231af9",
   "metadata": {},
   "outputs": [],
   "source": []
  }
 ],
 "metadata": {
  "kernelspec": {
   "display_name": "Deno",
   "language": "typescript",
   "name": "deno"
  },
  "language_info": {
   "file_extension": ".ts",
   "mimetype": "text/x.typescript",
   "name": "typescript",
   "nb_converter": "script",
   "pygments_lexer": "typescript",
   "version": "5.3.3"
  }
 },
 "nbformat": 4,
 "nbformat_minor": 5
}
