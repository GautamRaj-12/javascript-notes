{
 "cells": [
  {
   "cell_type": "markdown",
   "id": "6c104ce8-e860-40ea-9f1d-24d6b87324dd",
   "metadata": {},
   "source": [
    "## Table of Contents"
   ]
  }
 ],
 "metadata": {
  "kernelspec": {
   "display_name": "Deno",
   "language": "typescript",
   "name": "deno"
  },
  "language_info": {
   "file_extension": ".ts",
   "mimetype": "text/x.typescript",
   "name": "typescript",
   "nb_converter": "script",
   "pygments_lexer": "typescript",
   "version": "5.3.3"
  }
 },
 "nbformat": 4,
 "nbformat_minor": 5
}
