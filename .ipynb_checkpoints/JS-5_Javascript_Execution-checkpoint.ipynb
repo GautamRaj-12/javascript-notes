{
 "cells": [
  {
   "cell_type": "markdown",
   "id": "afbcce8f-cbab-4a76-a0c9-3deb79dc03b9",
   "metadata": {},
   "source": [
    "## Table of Contents"
   ]
  },
  {
   "cell_type": "code",
   "execution_count": null,
   "id": "67f86f11-4d35-4f61-ad53-caa1cf7c54dc",
   "metadata": {},
   "outputs": [],
   "source": []
  }
 ],
 "metadata": {
  "kernelspec": {
   "display_name": "Deno",
   "language": "typescript",
   "name": "deno"
  },
  "language_info": {
   "file_extension": ".ts",
   "mimetype": "text/x.typescript",
   "name": "typescript",
   "nb_converter": "script",
   "pygments_lexer": "typescript",
   "version": "5.3.3"
  }
 },
 "nbformat": 4,
 "nbformat_minor": 5
}
