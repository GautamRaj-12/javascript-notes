{
 "cells": [
  {
   "cell_type": "markdown",
   "id": "34a24057-afd6-4a29-a59b-be4e903c4514",
   "metadata": {},
   "source": [
    "# Table of Contents\n"
   ]
  },
  {
   "cell_type": "markdown",
   "id": "cef9c551-a622-40e4-baa6-aa5c1b184f83",
   "metadata": {},
   "source": [
    "# Strings\n",
    "- Strings can be created as primitives, from **string literals**, or as **objects**, using the String() constructor\n",
    "- String literals can be specified using **single** or **double quotes,** which are treated identically, or using the **backtick character** `. This last form specifies a *template literal*: with this form you can *interpolate expressions*."
   ]
  },
  {
   "cell_type": "code",
   "execution_count": 1,
   "id": "573f3f46-dfa7-4c5f-8f9a-df6635a465f2",
   "metadata": {},
   "outputs": [
    {
     "name": "stdout",
     "output_type": "stream",
     "text": [
      "Hello, I am Gautam Raj and I am a Frontend Developer working on React\n",
      "Hello, I am Gautam Raj and I am a Frontend Developer working on React\n"
     ]
    }
   ],
   "source": [
    "const firstName = \"Gautam\" //using double quotes\n",
    "const lastName = 'Raj'    //using single quotes\n",
    "const role = `Frontend Developer` //using backticks\n",
    "const workingOn = new String(\"React\") //using String() Constructor\n",
    "\n",
    "console.log(\"Hello, I am \" + firstName + \" \"+ lastName + \" and I am a \"+role + \" working on \"+workingOn); //outdated way\n",
    "//modern way - Using template strings\n",
    "console.log(`Hello, I am ${firstName} ${lastName} and I am a ${role} working on ${workingOn}`)"
   ]
  },
  {
   "cell_type": "markdown",
   "id": "b9e05f3d-cde4-47e3-b70b-9544d7f96eae",
   "metadata": {},
   "source": [
    "## Character Access\n",
    "- There are two ways to access an individual character in a string.\n",
    "  - charAt() method\n",
    "  - Treat string as an array like object\n",
    "    - When using bracket notation for character access, attempting to delete or assign a value to these properties will not succeed. The properties involved are neither writable nor configurable."
   ]
  },
  {
   "cell_type": "code",
   "execution_count": 4,
   "id": "941ce3d6-4216-47e4-a661-1c14d2bd46a0",
   "metadata": {},
   "outputs": [
    {
     "name": "stdout",
     "output_type": "stream",
     "text": [
      "u\n",
      "t\n"
     ]
    }
   ],
   "source": [
    "const firstName = \"Gautam\"\n",
    "console.log(firstName[2])\n",
    "console.log(firstName.charAt(3))"
   ]
  },
  {
   "cell_type": "markdown",
   "id": "8294da8f-abc6-42ee-ae39-1e62cd2c55e9",
   "metadata": {},
   "source": [
    "## String Properties\n",
    "\n",
    "- **_length_** : The length data property of a String value contains the length of the string in UTF-16 code units.\n",
    "\n",
    "  - For an empty string, length is 0.\n",
    "  - Space is counted.\n",
    "  - Because string is a primitive, attempting to assign a value to a string's length property has no observable effect, and will throw in strict mode.\n",
    "  "
   ]
  },
  {
   "cell_type": "code",
   "execution_count": 2,
   "id": "d97d527f-dbeb-437c-a068-7fd7aac7958e",
   "metadata": {},
   "outputs": [
    {
     "name": "stdout",
     "output_type": "stream",
     "text": [
      "\u001b[33m24\u001b[39m\n",
      "\u001b[33m24\u001b[39m\n",
      "\u001b[33m4\u001b[39m\n",
      "\u001b[33m3\u001b[39m\n",
      "\u001b[33m2\u001b[39m\n",
      "\u001b[33m1\u001b[39m\n",
      "\u001b[33m8\u001b[39m\n",
      "\u001b[33m4\u001b[39m\n",
      "\u001b[33m11\u001b[39m\n",
      "\u001b[33m9\u001b[39m\n"
     ]
    }
   ],
   "source": [
    "const gameName = \"Call of Duty Black Ops 2\"\n",
    "//Considers UTF-16 code units, potentially affected by surrogate pairs.\n",
    "console.log(gameName.length) //24 \n",
    "//Considers individual characters, unaffected by surrogate pairs, as each array element represents a single character.\n",
    "console.log([...gameName].length) //24  \n",
    "/*\n",
    "Here, the spread operator ([...gameName]) is used to convert the string into an array of its individual characters. \n",
    "Then, the length property is applied to this array. The array will contain each character as a separate element.\n",
    "The output will be the number of elements in the array, which corresponds to the number of characters in the original string.\n",
    "This method is not affected by characters that may require two UTF-16 code units \n",
    "(surrogate pairs) because each element in the array represents a single character.\n",
    "*/\n",
    "\n",
    "const randomString = new String (\"A\\uD87E\\uDC04Z\")\n",
    "console.log(randomString.length) //4\n",
    "console.log([...randomString].length) //3\n",
    "\n",
    "const emoji = \"😄\";\n",
    "console.log(emoji.length); // 2\n",
    "console.log([...emoji].length); // 1\n",
    "\n",
    "const adlam = \"𞤲𞥋𞤣𞤫\";\n",
    "console.log(adlam.length); // 8\n",
    "console.log([...adlam].length); // 4\n",
    "\n",
    "const formula = \"∀𝑥∈ℝ,𝑥²≥0\";\n",
    "console.log(formula.length); // 11\n",
    "console.log([...formula].length); // 9\n"
   ]
  },
  {
   "cell_type": "markdown",
   "id": "41e289a6-cdb7-4f9b-a9e0-50107b563e76",
   "metadata": {},
   "source": [
    "## Methods"
   ]
  },
  {
   "cell_type": "markdown",
   "id": "e7b69428-a56e-4856-8025-b131f17c6f94",
   "metadata": {},
   "source": [
    "### at()\n",
    "- **Syntax**\n",
    "  - at(index)\n",
    "- [using at in js](https://blog.logrocket.com/using-javascript-at-method/)\n",
    "- It allows developers to seamlessly grab elements based on their indexes.\n",
    "- MDN defn: The at() method of String values takes an integer value and returns a new String consisting of the single UTF-16 code unit located at the specified offset.\n",
    "- This method allows for positive and negative integers.\n",
    "- Negative integers count back from the last string character."
   ]
  },
  {
   "cell_type": "code",
   "execution_count": 8,
   "id": "253e8c65-3d31-4880-92f5-2d3acfa24fbc",
   "metadata": {},
   "outputs": [
    {
     "name": "stdout",
     "output_type": "stream",
     "text": [
      "h\n",
      "a\n"
     ]
    }
   ],
   "source": [
    "const sentence = 'Work hard';\n",
    "let index = 5;\n",
    "console.log(sentence.at(index)); //h\n",
    "\n",
    "index = -3;\n",
    "console.log(sentence.at(index)); //a\n"
   ]
  },
  {
   "cell_type": "markdown",
   "id": "e97e1496-d8d0-44d1-9ff7-5955ed87b777",
   "metadata": {},
   "source": [
    "### charAt()\n",
    "- **Syntax**\n",
    "  - charAt(index)\n",
    "  - The charAt() method returns the character at a specified index (position) in a string.\n",
    "  - The charAt() method of String values returns a new string consisting of the single UTF-16 code unit at the given index.\n",
    "  - charAt() is very similar to using bracket notation to access a character at the specified index. The main differences are:\n",
    "    - charAt() attempts to convert index to an integer, while bracket notation does not, and directly uses index as a property name.\n",
    "    - charAt() returns an empty string if index is out of range, while bracket notation returns undefined."
   ]
  },
  {
   "cell_type": "code",
   "execution_count": 10,
   "id": "2823f577-b5b9-4f66-a48b-226cd9758fb8",
   "metadata": {},
   "outputs": [
    {
     "name": "stdout",
     "output_type": "stream",
     "text": [
      "h\n"
     ]
    }
   ],
   "source": [
    "const sentence = 'Work hard';\n",
    "let index = 5;\n",
    "console.log(sentence.charAt(index)); //h"
   ]
  },
  {
   "cell_type": "markdown",
   "id": "28bdefcf-3d4b-431f-a2ae-e11afb6fd884",
   "metadata": {},
   "source": [
    "### charCodeAt()"
   ]
  }
 ],
 "metadata": {
  "kernelspec": {
   "display_name": "Deno",
   "language": "typescript",
   "name": "deno"
  },
  "language_info": {
   "file_extension": ".ts",
   "mimetype": "text/x.typescript",
   "name": "typescript",
   "nb_converter": "script",
   "pygments_lexer": "typescript",
   "version": "5.3.3"
  }
 },
 "nbformat": 4,
 "nbformat_minor": 5
}
