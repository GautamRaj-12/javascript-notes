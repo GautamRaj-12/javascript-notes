{
 "cells": [
  {
   "cell_type": "markdown",
   "id": "91d8c315-7a08-4721-9126-162f4b5ab4a2",
   "metadata": {},
   "source": [
    "## Table of Contents\n",
    "* [Objects](#objects)\n",
    "* [Object Literal](#object-literal)\n",
    "* [Object Constructor](#object-constructor)\n",
    "* [Object Literal Example](#object-literal-ex)\n",
    "* [Accessing Object Values](#accessing-object-values)\n",
    "  * [Dot Access Operator](#dot-operator)\n",
    "  * [Square Brackets Notation](#square-brackets-notation)\n",
    "  * [Object Destructuring Notation](#object-destructuring-notation)\n",
    "* [Object Constructor Example](#object-constructor-ex)\n",
    "* [Symbol data type and Object](#symbols-and-objects)\n",
    "  * [The wrong way of using](#symbols-and-objects-wrong)\n",
    "  * [The Right way of using](#symbols-and-objects-right)\n",
    "* [Changing values in Objects](#changing-values)\n",
    "* [Adding new key-value pair in Objects](#adding-new-values)\n",
    "* [Methods/Functions in Objects](#methods-and-objects)"
   ]
  },
  {
   "cell_type": "markdown",
   "id": "e61e936a-bfea-48bd-84ef-63945764ea0a",
   "metadata": {},
   "source": [
    "## Objects <a id=\"objects\"></a>\n",
    "- Objects is used to store various keyed collections and more complex entities.\n",
    "- They organize data in key-value pairs\n",
    "- Objects can be created using the Object() constructor or the object initializer / literal syntax."
   ]
  },
  {
   "cell_type": "markdown",
   "id": "01567a31-1ed2-4c5d-9e04-ff015cbdb616",
   "metadata": {},
   "source": [
    "## Object Literal <a id=\"object-literal\"></a>\n",
    "- An object literal is a way to create an object in JavaScript using curly braces {}.\n",
    "- Object literals are not inherently singleton; we can create multiple instances of objects using the same object literal syntax."
   ]
  },
  {
   "cell_type": "markdown",
   "id": "2825593b-3cf0-414a-a15f-2d1e1c0ccbe2",
   "metadata": {},
   "source": [
    "## Object Constructor <a id=\"object-constructor\"></a>\n",
    "- The Object() constructor turns the input into an object.\n",
    "- **Syntax**\n",
    "  - new Object()\n",
    "  - new Object(value)\n",
    "  - Object()\n",
    "  - Object(value)\n",
    "- Note: Object() can be called with or without new, but sometimes with different effects.\n",
    "- Object literals are singleton; we can create only one instance."
   ]
  },
  {
   "cell_type": "markdown",
   "id": "0d406fee-2cb0-400b-afea-c64ccd3b6bbf",
   "metadata": {},
   "source": [
    "## Creating Objects Using Literals <a id=\"object-literal-ex\"></a>"
   ]
  },
  {
   "cell_type": "code",
   "execution_count": 4,
   "id": "0568119c-169e-4c50-9961-30606ca902d8",
   "metadata": {},
   "outputs": [
    {
     "name": "stdout",
     "output_type": "stream",
     "text": [
      "{\n",
      "  name: \u001b[32m\"Gautam\"\u001b[39m,\n",
      "  age: \u001b[33m23\u001b[39m,\n",
      "  location: \u001b[32m\"Venice\"\u001b[39m,\n",
      "  email: \u001b[32m\"gautam@gmail.com\"\u001b[39m,\n",
      "  isLoggedin: \u001b[33mfalse\u001b[39m,\n",
      "  lastLoginDays: [ \u001b[32m\"Monday\"\u001b[39m, \u001b[32m\"Saturday\"\u001b[39m ]\n",
      "}\n"
     ]
    }
   ],
   "source": [
    "//using literal\n",
    "const user = {\n",
    "    name:\"Gautam\",    // we can also do this:  \"name\":\"Gautam\" (Internally keys are strings)\n",
    "    age:23,           // \"age\":23\n",
    "    location:\"Venice\", //\"location\":\"Venice\"\n",
    "    email:\"gautam@gmail.com\",\n",
    "    isLoggedin:false,\n",
    "    lastLoginDays:[\"Monday\",\"Saturday\"]\n",
    "}\n",
    "//displaying objects\n",
    "console.log(user)"
   ]
  },
  {
   "cell_type": "markdown",
   "id": "217c6c4e-a10d-4387-a97f-92dff31ffc0b",
   "metadata": {},
   "source": [
    "## Accessing Objects in 3 ways <a id=\"accessing-object-values\"></a>\n",
    "1. **Dot Operator** <a id=\"dot-operator\"></a>"
   ]
  },
  {
   "cell_type": "code",
   "execution_count": 2,
   "id": "a5ce5d1c-a785-4053-bc80-c958b39439d0",
   "metadata": {},
   "outputs": [
    {
     "name": "stdout",
     "output_type": "stream",
     "text": [
      "gautam@gmail.com\n"
     ]
    }
   ],
   "source": [
    "const user = {\n",
    "    name:\"Gautam\",\n",
    "    age:23,\n",
    "    location:\"Venice\",\n",
    "    email:\"gautam@gmail.com\",\n",
    "    isLoggedin:false,\n",
    "    lastLoginDays:[\"Monday\",\"Saturday\"]\n",
    "}\n",
    "console.log(user.email)"
   ]
  },
  {
   "cell_type": "markdown",
   "id": "5776b4b6-6f72-45e6-be6e-61bd0decadb2",
   "metadata": {},
   "source": [
    "- **But dot operator doesn't work with invalid identifiers**"
   ]
  },
  {
   "cell_type": "code",
   "execution_count": 1,
   "id": "e9c5c8af-6afc-486b-b340-6675daca9134",
   "metadata": {},
   "outputs": [
    {
     "ename": "Expected ',', got 'name' at repl.tsx:4:23\n\n  console.log(user.full name) //error\n                        ~~~~",
     "evalue": " ",
     "output_type": "error",
     "traceback": []
    }
   ],
   "source": [
    "const user={\n",
    "    \"full name\":\"Gautam Raj\"\n",
    "}\n",
    "console.log(user.full name) //error"
   ]
  },
  {
   "cell_type": "code",
   "execution_count": 2,
   "id": "22b0ca9e-cb1a-4273-9b1b-255d9bdd64b5",
   "metadata": {},
   "outputs": [
    {
     "ename": "Expected ident at repl.tsx:4:18\n\n  console.log(user.\"full name\") //error\n                   ~~~~~~~~~~~",
     "evalue": " ",
     "output_type": "error",
     "traceback": []
    }
   ],
   "source": [
    "const user={\n",
    "    \"full name\":\"Gautam Raj\"\n",
    "}\n",
    "console.log(user.\"full name\") //error"
   ]
  },
  {
   "cell_type": "markdown",
   "id": "af455c73-03cd-4e20-8921-c03efc9e5387",
   "metadata": {},
   "source": [
    "We can use **square brackets** notation in this case. This is the better way."
   ]
  },
  {
   "cell_type": "markdown",
   "id": "2283c224-3a5f-4254-920f-a4533b322c69",
   "metadata": {},
   "source": [
    "2. **Square brackets Notation** <a id=\"square-brackets-notation\"></a>"
   ]
  },
  {
   "cell_type": "code",
   "execution_count": 16,
   "id": "9029596b-da25-48de-bdce-b977c32c10f2",
   "metadata": {},
   "outputs": [
    {
     "name": "stdout",
     "output_type": "stream",
     "text": [
      "Gautam Raj\n",
      "Rome\n"
     ]
    }
   ],
   "source": [
    "const user={\n",
    "    \"full name\":\"Gautam Raj\",\n",
    "    location:\"Rome\"\n",
    "}\n",
    "console.log(user[\"full name\"])\n",
    "console.log(user[\"location\"]) //always  write keys as strings in square notation"
   ]
  },
  {
   "cell_type": "markdown",
   "id": "526fb468-3a86-408b-8e85-1c384d377a93",
   "metadata": {},
   "source": [
    "3. **Object destructuring Notation** <a id=\"object-destructuring-notation\"></a>"
   ]
  },
  {
   "cell_type": "code",
   "execution_count": null,
   "id": "ae9eac08-5bd6-491d-a5cd-4bdf25a4ab73",
   "metadata": {},
   "outputs": [],
   "source": [
    "const user = {\n",
    "    name:\"Gautam\",\n",
    "    age:23,\n",
    "    location:\"Venice\",\n",
    "    email:\"gautam@gmail.com\",\n",
    "    isLoggedin:false,\n",
    "    lastLoginDays:[\"Monday\",\"Saturday\"]\n",
    "}"
   ]
  },
  {
   "cell_type": "markdown",
   "id": "e980c433-1f18-416f-941f-7a3e02a725fa",
   "metadata": {},
   "source": [
    "## Create objects using Constructor <a id=\"object-constructor-ex\"></a>"
   ]
  },
  {
   "cell_type": "code",
   "execution_count": 5,
   "id": "e3b6e7db-159a-44bb-a127-82739d45ff3a",
   "metadata": {},
   "outputs": [
    {
     "name": "stdout",
     "output_type": "stream",
     "text": [
      "Gautam\n",
      "\u001b[33m23\u001b[39m\n"
     ]
    }
   ],
   "source": [
    "const obj1 = new Object({\n",
    "    name:\"Gautam\",\n",
    "    age:23\n",
    "    }\n",
    ")\n",
    "console.log(obj1[\"name\"])\n",
    "console.log(obj1.age)"
   ]
  },
  {
   "cell_type": "markdown",
   "id": "178dfb28-797b-4bb4-9d56-d87031681e88",
   "metadata": {},
   "source": [
    "### Symbol data type and objects <a id=\"symbol-and-objects\"></a>"
   ]
  },
  {
   "cell_type": "markdown",
   "id": "435eab6c-5504-4529-b099-43d9583f5048",
   "metadata": {},
   "source": [
    "**Using a symbol as a property key directly (***Wrong way***)** <a id=\"symbol-and-objects-wrong\"></a>"
   ]
  },
  {
   "cell_type": "code",
   "execution_count": 24,
   "id": "1e53d126-1028-4a1b-9492-e5d3f0e2efa3",
   "metadata": {},
   "outputs": [
    {
     "name": "stdout",
     "output_type": "stream",
     "text": [
      "myKey1\n",
      "{\n",
      "  name: \u001b[32m\"Gautam\"\u001b[39m,\n",
      "  mySym: \u001b[32m\"myKey1\"\u001b[39m,\n",
      "  age: \u001b[33m23\u001b[39m,\n",
      "  location: \u001b[32m\"Venice\"\u001b[39m,\n",
      "  email: \u001b[32m\"gautam@gmail.com\"\u001b[39m,\n",
      "  isLoggedin: \u001b[33mfalse\u001b[39m,\n",
      "  lastLoginDays: [ \u001b[32m\"Monday\"\u001b[39m, \u001b[32m\"Saturday\"\u001b[39m ]\n",
      "}\n"
     ]
    }
   ],
   "source": [
    "// creating a symbol\n",
    "const mySym = Symbol(\"key1\")\n",
    "\n",
    "// Using a symbol as a property key directly\n",
    "const user = {\n",
    "    name:\"Gautam\", \n",
    "    mySym:\"myKey1\", // Here, mySym is used as a string key, not a symbol key\n",
    "    age:23,\n",
    "    location:\"Venice\",\n",
    "    email:\"gautam@gmail.com\",\n",
    "    isLoggedin:false,\n",
    "    lastLoginDays:[\"Monday\",\"Saturday\"]\n",
    "}\n",
    "\n",
    "console.log(user.mySym); //myKey1\n",
    "console.log(user)"
   ]
  },
  {
   "cell_type": "markdown",
   "id": "455c7be5-91ec-4afc-b4f2-3ad5ced07548",
   "metadata": {},
   "source": [
    "- **In the above output you can see that `mySym` is treated as normal object key which is not correct**"
   ]
  },
  {
   "cell_type": "markdown",
   "id": "a844be1c-d994-4179-8590-1152daa478a4",
   "metadata": {},
   "source": [
    "**Using a symbol as a property key with square brackets (***Right way***)** <a id=\"symbol-and-objects-right\"></a>"
   ]
  },
  {
   "cell_type": "code",
   "execution_count": 23,
   "id": "9f5e3752-398f-49a0-9f7c-750d41526f99",
   "metadata": {},
   "outputs": [
    {
     "name": "stdout",
     "output_type": "stream",
     "text": [
      "myKey1\n",
      "\u001b[90mundefined\u001b[39m\n",
      "{\n",
      "  name: \u001b[32m\"Gautam\"\u001b[39m,\n",
      "  age: \u001b[33m23\u001b[39m,\n",
      "  location: \u001b[32m\"Venice\"\u001b[39m,\n",
      "  email: \u001b[32m\"gautam@gmail.com\"\u001b[39m,\n",
      "  isLoggedin: \u001b[33mfalse\u001b[39m,\n",
      "  lastLoginDays: [ \u001b[32m\"Monday\"\u001b[39m, \u001b[32m\"Saturday\"\u001b[39m ],\n",
      "  [\u001b[32mSymbol(key1)\u001b[39m]: \u001b[32m\"myKey1\"\u001b[39m\n",
      "}\n"
     ]
    }
   ],
   "source": [
    "// creating a symbol\n",
    "const mySym = Symbol(\"key1\")\n",
    "\n",
    "// Using a symbol as a property key with square brackets\n",
    "const user = {\n",
    "    name:\"Gautam\",\n",
    "    [mySym]:\"myKey1\", // Here, mySym is used as a symbol key\n",
    "    age:23, \n",
    "    location:\"Venice\",\n",
    "    email:\"gautam@gmail.com\",\n",
    "    isLoggedin:false,\n",
    "    lastLoginDays:[\"Monday\",\"Saturday\"]\n",
    "}\n",
    "\n",
    "console.log(user[mySym]); //mykey1\n",
    "console.log(user.mySym); //undefined\n",
    "console.log(user)"
   ]
  },
  {
   "cell_type": "markdown",
   "id": "7c550e1b-3744-4d14-8057-dd2f08457b11",
   "metadata": {},
   "source": [
    "- **In the above output you can see that `mySym` is treated as Symbol which is correct**"
   ]
  },
  {
   "cell_type": "markdown",
   "id": "f5dd7ce5-d6ad-44e5-8c8d-8f4b13c423ed",
   "metadata": {},
   "source": [
    "### Changing values of keys in Objects <a id=\"changing-values\"></a>"
   ]
  },
  {
   "cell_type": "code",
   "execution_count": 29,
   "id": "d018b4e4-d9fe-4d12-bef6-15dfef34cf2e",
   "metadata": {},
   "outputs": [
    {
     "name": "stdout",
     "output_type": "stream",
     "text": [
      "{\n",
      "  name: \u001b[32m\"Gautam\"\u001b[39m,\n",
      "  age: \u001b[33m23\u001b[39m,\n",
      "  location: \u001b[32m\"Athens\"\u001b[39m,\n",
      "  email: \u001b[32m\"gautam@gmail.com\"\u001b[39m,\n",
      "  isLoggedin: \u001b[33mfalse\u001b[39m,\n",
      "  lastLoginDays: [ \u001b[32m\"Monday\"\u001b[39m, \u001b[32m\"Saturday\"\u001b[39m ]\n",
      "}\n"
     ]
    }
   ],
   "source": [
    "const user = {\n",
    "    name:\"Gautam\",\n",
    "    age:23, \n",
    "    location:\"Venice\",\n",
    "    email:\"gautam@gmail.com\",\n",
    "    isLoggedin:false,\n",
    "    lastLoginDays:[\"Monday\",\"Saturday\"]\n",
    "}\n",
    "\n",
    "user.location = \"Athens\";\n",
    "console.log(user) //The location key value will be changed."
   ]
  },
  {
   "cell_type": "markdown",
   "id": "d493e33e-6872-4a21-82a4-d1471ef2646e",
   "metadata": {},
   "source": [
    "### Adding new key-value in Objects <a id=\"adding-new-values\"></a>"
   ]
  },
  {
   "cell_type": "code",
   "execution_count": 31,
   "id": "c9f83ab6-a7e4-4be5-bcae-738a41e20897",
   "metadata": {},
   "outputs": [
    {
     "name": "stdout",
     "output_type": "stream",
     "text": [
      "{\n",
      "  name: \u001b[32m\"Gautam\"\u001b[39m,\n",
      "  age: \u001b[33m23\u001b[39m,\n",
      "  location: \u001b[32m\"Venice\"\u001b[39m,\n",
      "  email: \u001b[32m\"gautam@gmail.com\"\u001b[39m,\n",
      "  isLoggedin: \u001b[33mfalse\u001b[39m,\n",
      "  lastLoginDays: [ \u001b[32m\"Monday\"\u001b[39m, \u001b[32m\"Saturday\"\u001b[39m ],\n",
      "  phone: \u001b[32m\"1234567890\"\u001b[39m\n",
      "}\n"
     ]
    }
   ],
   "source": [
    "const user = {\n",
    "    name:\"Gautam\",\n",
    "    age:23, \n",
    "    location:\"Venice\",\n",
    "    email:\"gautam@gmail.com\",\n",
    "    isLoggedin:false,\n",
    "    lastLoginDays:[\"Monday\",\"Saturday\"]\n",
    "}\n",
    "\n",
    "user.phone=\"1234567890\"\n",
    "\n",
    "console.log(user) //The new value is added"
   ]
  },
  {
   "cell_type": "markdown",
   "id": "ca033988-bf8a-4abf-8a5d-ab8a51566d64",
   "metadata": {},
   "source": [
    "### Methods/Functions in Objects <a id=\"methods-and-objects\"></a>"
   ]
  },
  {
   "cell_type": "code",
   "execution_count": 42,
   "id": "dea1446c-44d4-4b09-9913-3fdc1c42cf33",
   "metadata": {},
   "outputs": [
    {
     "name": "stdout",
     "output_type": "stream",
     "text": [
      "\u001b[36m[Function (anonymous)]\u001b[39m\n",
      "Hello User\n",
      "\u001b[90mundefined\u001b[39m\n",
      "Hello user, Gautam\n",
      "\u001b[90mundefined\u001b[39m\n"
     ]
    }
   ],
   "source": [
    "const user = {\n",
    "    name:\"Gautam\",\n",
    "    age:23, \n",
    "    location:\"Venice\",\n",
    "    email:\"gautam@gmail.com\",\n",
    "    isLoggedin:false,\n",
    "    lastLoginDays:[\"Monday\",\"Saturday\"]\n",
    "}\n",
    "user.greeting = function(){\n",
    "    console.log(\"Hello User\");\n",
    "}\n",
    "user.greetingTwo = function(){\n",
    "    console.log(`Hello user, ${this.name}`)\n",
    "}\n",
    "\n",
    "console.log(user.greeting)  //fnction anonymous\n",
    "console.log(user.greeting()) //Hello user //After this line there will be undefined \n",
    "console.log(user.greetingTwo()) //Hello user, Gautam //After this line there will be undefined "
   ]
  },
  {
   "cell_type": "markdown",
   "id": "6da52c85-af6a-40a4-bf8e-e945c98a2726",
   "metadata": {},
   "source": [
    "**In the above output we are getting `undefined` because functions are defined without an explicit return statement, which means they implicitly return undefined.**"
   ]
  },
  {
   "cell_type": "code",
   "execution_count": null,
   "id": "69b2e0a7-14de-4c58-9e29-baefb35a89b1",
   "metadata": {},
   "outputs": [],
   "source": []
  }
 ],
 "metadata": {
  "kernelspec": {
   "display_name": "Deno",
   "language": "typescript",
   "name": "deno"
  },
  "language_info": {
   "file_extension": ".ts",
   "mimetype": "text/x.typescript",
   "name": "typescript",
   "nb_converter": "script",
   "pygments_lexer": "typescript",
   "version": "5.3.3"
  }
 },
 "nbformat": 4,
 "nbformat_minor": 5
}
