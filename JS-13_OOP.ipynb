{
 "cells": [
  {
   "cell_type": "markdown",
   "id": "c7d2f46e-b847-4dc5-8ed5-2751f692ae58",
   "metadata": {},
   "source": [
    "## Table of Contents"
   ]
  },
  {
   "cell_type": "markdown",
   "id": "eac0bbf2-f2ca-42fb-a19e-da49ea758ea1",
   "metadata": {},
   "source": [
    "## Does Javascript really have classes?\n",
    "- Yes, Js does have classes. This feature was introduced introduced with the ECMAScript 2015 specification(often referred to as ES6). However, it is important to note that javascript is primarily a **prototype-based language**, and its ***classes are primarily syntactic sugar*** over existing prototype-based inheritance mechanisms. In other words, it provides more familiar syntax for developers coming from class-based languages such as Java or C++, but under the hood, it works somewhat differently."
   ]
  },
  {
   "cell_type": "markdown",
   "id": "c123becf-6455-4d6f-b9b8-f1e939fda2ad",
   "metadata": {},
   "source": [
    "## OOP\n",
    "- It is a programming paradigm."
   ]
  },
  {
   "cell_type": "markdown",
   "id": "246c4710-db8b-4ae0-8d7a-dddb2cf23100",
   "metadata": {},
   "source": [
    "## Object\n",
    "- Collection of properties and methods"
   ]
  },
  {
   "cell_type": "markdown",
   "id": "a739749a-9dbe-431f-9c10-8de903030f56",
   "metadata": {},
   "source": [
    "## Why use OOP?\n",
    "- As such kuch khaas zaroorat to nahi thi.\n",
    "- But code bahot jaayda mess up ho raha tha - sphagetti code"
   ]
  },
  {
   "cell_type": "markdown",
   "id": "d6e31d93-366c-42fb-bc46-45e1bf591a6c",
   "metadata": {},
   "source": [
    "## 4 Pillars of OOP\n",
    "1. Abstraction\n",
    "2. Encapsulation"
   ]
  },
  {
   "cell_type": "markdown",
   "id": "ebb3dbb3-f123-4586-bb11-e0dc8e7d8954",
   "metadata": {},
   "source": [
    "## Parts of OOP\n",
    "- **Object Literal**\n",
    "- **Constructor Functions**\n",
    "- **Prototypes**\n",
    "- **Instances**"
   ]
  },
  {
   "cell_type": "code",
   "execution_count": null,
   "id": "bdd0dbeb-a3bd-4eda-9b0e-288c1730fba5",
   "metadata": {},
   "outputs": [],
   "source": []
  }
 ],
 "metadata": {
  "kernelspec": {
   "display_name": "Deno",
   "language": "typescript",
   "name": "deno"
  },
  "language_info": {
   "file_extension": ".ts",
   "mimetype": "text/x.typescript",
   "name": "typescript",
   "nb_converter": "script",
   "pygments_lexer": "typescript",
   "version": "5.3.3"
  }
 },
 "nbformat": 4,
 "nbformat_minor": 5
}
