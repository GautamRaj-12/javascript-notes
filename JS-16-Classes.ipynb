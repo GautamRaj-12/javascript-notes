{
 "cells": [
  {
   "cell_type": "markdown",
   "id": "bfb4f548-ca4f-43b4-8641-91f899ec553d",
   "metadata": {},
   "source": [
    "## Classes"
   ]
  },
  {
   "cell_type": "code",
   "execution_count": 10,
   "id": "1d42cad6-a71a-49ff-a2a1-d5f340f94081",
   "metadata": {},
   "outputs": [
    {
     "name": "stdout",
     "output_type": "stream",
     "text": [
      "123abc\n",
      "GAUTAM\n"
     ]
    }
   ],
   "source": [
    "class User{\n",
    "    constructor(username,email,password){\n",
    "        this.username = username;\n",
    "        this.email = email;\n",
    "        this.password = password;\n",
    "    }\n",
    "    //method\n",
    "    encryptPassword(){\n",
    "        return `${this.password}abc`;\n",
    "    }\n",
    "    changeUsername(){\n",
    "        return `${this.username.toUpperCase()}`;\n",
    "    }\n",
    "}\n",
    "\n",
    "const user = new User(\"Gautam\",\"gautam@gmail.com\",\"123\")\n",
    "console.log(user.encryptPassword())\n",
    "console.log(user.changeUsername())"
   ]
  },
  {
   "cell_type": "markdown",
   "id": "ebc2cd47-549b-4e00-94e0-0bde1aee4e44",
   "metadata": {},
   "source": [
    "## Behind the scene classes are constructor functions"
   ]
  },
  {
   "cell_type": "code",
   "execution_count": 7,
   "id": "8ca70f4e-b2af-48cf-b745-35c6bd12f268",
   "metadata": {},
   "outputs": [
    {
     "name": "stdout",
     "output_type": "stream",
     "text": [
      "453abc\n",
      "RAJ\n"
     ]
    }
   ],
   "source": [
    "function Users(username,email,password){\n",
    "        this.username = username;\n",
    "        this.email = email;\n",
    "        this.password = password;       \n",
    "}\n",
    "Users.prototype.encryptPassword = function(){\n",
    "    return `${this.password}abc`;\n",
    "}\n",
    "Users.prototype.changeUsername = function(){\n",
    "    return `${this.username.toUpperCase()}`;\n",
    "}\n",
    "const user2 = new Users(\"Raj\",\"raj123@gmail.com\",\"453\")\n",
    "console.log(user2.encryptPassword())\n",
    "console.log(user2.changeUsername())"
   ]
  },
  {
   "cell_type": "markdown",
   "id": "352967f4-749d-40b7-b76c-f1a39eed0b40",
   "metadata": {},
   "source": [
    "## Inheritance"
   ]
  },
  {
   "cell_type": "code",
   "execution_count": 9,
   "id": "8c8c559c-c900-419e-bdc8-1f420d564574",
   "metadata": {},
   "outputs": [
    {
     "name": "stdout",
     "output_type": "stream",
     "text": [
      "A new course was added by: Gautam\n"
     ]
    }
   ],
   "source": [
    "class UserClass{\n",
    "    constructor(username){\n",
    "        this.username = username;\n",
    "    }\n",
    "    logMe(){\n",
    "        console.log(`USERNAME is ${this.username}`)\n",
    "    }\n",
    "}\n",
    "\n",
    "class Teacher extends UserClass{\n",
    "    constructor(username,email,password){\n",
    "        super(username);\n",
    "        this.email = email;\n",
    "        this.password = password;\n",
    "    }\n",
    "    addCourse(){\n",
    "        console.log(`A new course was added by: ${this.username}`);\n",
    "    }\n",
    "}\n",
    "\n",
    "const teacher1 = new Teacher(\"Gautam\",\"gautam@gmail.com\",\"123\")\n",
    "teacher1.addCourse()"
   ]
  },
  {
   "cell_type": "markdown",
   "id": "7b5f6ff4-915a-4b42-b85e-ade23f53290f",
   "metadata": {},
   "source": [
    "## Static Properties"
   ]
  },
  {
   "cell_type": "code",
   "execution_count": 14,
   "id": "a9cafa47-8560-41be-93bf-643be343c0d6",
   "metadata": {},
   "outputs": [
    {
     "ename": "TypeError",
     "evalue": "userObj.createId is not a function",
     "output_type": "error",
     "traceback": [
      "Stack trace:",
      "TypeError: userObj.createId is not a function",
      "    at <anonymous>:13:21"
     ]
    }
   ],
   "source": [
    "class UserClass2{\n",
    "    constructor(username){\n",
    "        this.username = username;\n",
    "    }\n",
    "    logMe(){\n",
    "        console.log(`USERNAME is ${this.username}`)\n",
    "    }\n",
    "    static createId(){\n",
    "        return `123`;\n",
    "    }\n",
    "}\n",
    "const userObj = new UserClass2(\"Gautam\");\n",
    "console.log(userObj.createId())"
   ]
  },
  {
   "cell_type": "code",
   "execution_count": null,
   "id": "18d72b4e-cf9e-4062-957e-c32f3cadaa11",
   "metadata": {},
   "outputs": [],
   "source": []
  }
 ],
 "metadata": {
  "kernelspec": {
   "display_name": "Deno",
   "language": "typescript",
   "name": "deno"
  },
  "language_info": {
   "file_extension": ".ts",
   "mimetype": "text/x.typescript",
   "name": "typescript",
   "nb_converter": "script",
   "pygments_lexer": "typescript",
   "version": "5.3.3"
  }
 },
 "nbformat": 4,
 "nbformat_minor": 5
}
