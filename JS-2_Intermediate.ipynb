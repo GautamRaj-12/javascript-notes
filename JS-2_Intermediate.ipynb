{
 "cells": [
  {
   "cell_type": "markdown",
   "id": "37055d0e-6770-4334-994e-5d26fe6fdb06",
   "metadata": {},
   "source": [
    "## Arrays\n",
    "- The Array object, enables storing a collection of multiple items under a single variable name.\n",
    "- In Javascript arrays aren't ***primitives*** but are instead ***Array Objects***."
   ]
  },
  {
   "cell_type": "markdown",
   "id": "191c27da-d7db-4b09-891a-703d1f32a3ed",
   "metadata": {},
   "source": [
    "### Core Characterstics of Arrays\n",
    "- JS arrays are ***resizable*** unlike many other programming languages\n",
    "- JS arrays can contain ***mix of different data types***\n",
    "- JS arrays are ***not associative arrays*** ➡ array elements cannot be accessed using non negative integers.\n",
    "- JS arrays are ***zero indexed***\n",
    "- JS ***All built-in copy operations*** create ***SHALLOW COPIES*** rather than ***DEEP COPIES*** (A shallow copy of an object is a copy whose properties share the same references ➡ That means If i change the new object, the main object will also be changed)"
   ]
  },
  {
   "cell_type": "code",
   "execution_count": 10,
   "id": "f255db22-9dc5-4d90-81bd-88a1019b5b98",
   "metadata": {},
   "outputs": [
    {
     "name": "stdout",
     "output_type": "stream",
     "text": [
      "\u001b[33m20\u001b[39m\n",
      "\u001b[33m25\u001b[39m\n",
      "\u001b[33m15\u001b[39m\n",
      "\u001b[33m28\u001b[39m\n",
      "\u001b[90mundefined\u001b[39m\n",
      "Frameworks Known:  [ \u001b[32m\"Bootstrap\"\u001b[39m, \u001b[32m\"Tailwind\"\u001b[39m, \u001b[32m\"React\"\u001b[39m ]\n",
      "Profile: [ \u001b[32m\"Gautam\"\u001b[39m, \u001b[33m23\u001b[39m, \u001b[33mtrue\u001b[39m ]\n"
     ]
    }
   ],
   "source": [
    "const marks = [20,25,15,28]\n",
    "//Accessing elements one at a time\n",
    "console.log(marks[0])\n",
    "console.log(marks[1])\n",
    "console.log(marks[2])\n",
    "console.log(marks[\"3\"]) //It's also possible to quote the array indices.\n",
    "\n",
    "//But can't do the following - can't use arbitrary strings to access\n",
    "console.log(marks[\"one\"]) //undefined\n",
    "\n",
    "const frameworksKnown = [\"Bootstrap\", \"Tailwind\", \"React\"]\n",
    "console.log(\"Frameworks Known: \", frameworksKnown) //No for loop required like other languages to print all elements in console.log()\n",
    "\n",
    "// Array of mix types\n",
    "const profile = [\"Gautam\", 23, true]\n",
    "console.log(\"Profile:\", profile)"
   ]
  },
  {
   "cell_type": "code",
   "execution_count": null,
   "id": "a76055f0-b37c-47c4-bd30-4924072f71c9",
   "metadata": {},
   "outputs": [],
   "source": []
  }
 ],
 "metadata": {
  "kernelspec": {
   "display_name": "Deno",
   "language": "typescript",
   "name": "deno"
  },
  "language_info": {
   "file_extension": ".ts",
   "mimetype": "text/x.typescript",
   "name": "typescript",
   "nb_converter": "script",
   "pygments_lexer": "typescript",
   "version": "5.3.3"
  }
 },
 "nbformat": 4,
 "nbformat_minor": 5
}
