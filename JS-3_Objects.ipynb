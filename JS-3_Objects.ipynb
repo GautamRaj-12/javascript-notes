{
 "cells": [
  {
   "cell_type": "markdown",
   "id": "91d8c315-7a08-4721-9126-162f4b5ab4a2",
   "metadata": {},
   "source": [
    "## Table of Contents"
   ]
  },
  {
   "cell_type": "markdown",
   "id": "e61e936a-bfea-48bd-84ef-63945764ea0a",
   "metadata": {},
   "source": [
    "## Objects\n",
    "- Objects is used to store various keyed collections and more complex entities.\n",
    "- They organize data in key-value pairs\n",
    "- Objects can be created using the Object() constructor or the object initializer / literal syntax."
   ]
  },
  {
   "cell_type": "markdown",
   "id": "01567a31-1ed2-4c5d-9e04-ff015cbdb616",
   "metadata": {},
   "source": [
    "## Object Literal\n",
    "- An object literal is a way to create an object in JavaScript using curly braces {}.\n",
    "- Object literals are not inherently singleton; we can create multiple instances of objects using the same object literal syntax."
   ]
  },
  {
   "cell_type": "markdown",
   "id": "2825593b-3cf0-414a-a15f-2d1e1c0ccbe2",
   "metadata": {},
   "source": [
    "## Object Constructor\n",
    "- The Object() constructor turns the input into an object.\n",
    "- **Syntax**\n",
    "  - new Object()\n",
    "  - new Object(value)\n",
    "  - Object()\n",
    "  - Object(value)\n",
    "- Note: Object() can be called with or without new, but sometimes with different effects.\n",
    "- Object literals are singleton; we can create only one instance."
   ]
  },
  {
   "cell_type": "markdown",
   "id": "0d406fee-2cb0-400b-afea-c64ccd3b6bbf",
   "metadata": {},
   "source": [
    "## Creating Objects Using Literals"
   ]
  },
  {
   "cell_type": "code",
   "execution_count": 18,
   "id": "0568119c-169e-4c50-9961-30606ca902d8",
   "metadata": {},
   "outputs": [],
   "source": [
    "//using literal\n",
    "const user = {\n",
    "    name:\"Gautam\",    // we can also do this:  \"name\":\"Gautam\" (Internally keys are strings)\n",
    "    age:23,           // \"age\":23\n",
    "    location:\"Venice\", //\"location\":\"Venice\"\n",
    "    email:\"gautam@gmail.com\",\n",
    "    isLoggedin:false,\n",
    "    lastLoginDays:[\"Monday\",\"Saturday\"]\n",
    "}"
   ]
  },
  {
   "cell_type": "markdown",
   "id": "217c6c4e-a10d-4387-a97f-92dff31ffc0b",
   "metadata": {},
   "source": [
    "## Accessing Objects in 3 ways\n",
    "1. **Dot Operator**"
   ]
  },
  {
   "cell_type": "code",
   "execution_count": 2,
   "id": "a5ce5d1c-a785-4053-bc80-c958b39439d0",
   "metadata": {},
   "outputs": [
    {
     "name": "stdout",
     "output_type": "stream",
     "text": [
      "gautam@gmail.com\n"
     ]
    }
   ],
   "source": [
    "const user = {\n",
    "    name:\"Gautam\",\n",
    "    age:23,\n",
    "    location:\"Venice\",\n",
    "    email:\"gautam@gmail.com\",\n",
    "    isLoggedin:false,\n",
    "    lastLoginDays:[\"Monday\",\"Saturday\"]\n",
    "}\n",
    "console.log(user.email)"
   ]
  },
  {
   "cell_type": "markdown",
   "id": "5776b4b6-6f72-45e6-be6e-61bd0decadb2",
   "metadata": {},
   "source": [
    "- **But dot operator doesn't work with invalid identifiers**"
   ]
  },
  {
   "cell_type": "code",
   "execution_count": 12,
   "id": "e9c5c8af-6afc-486b-b340-6675daca9134",
   "metadata": {},
   "outputs": [
    {
     "ename": "Expected ',', got 'name' at repl.tsx:4:23\n\n  console.log(user.full name)\n                        ~~~~",
     "evalue": " ",
     "output_type": "error",
     "traceback": []
    }
   ],
   "source": [
    "const user={\n",
    "    \"full name\":\"Gautam Raj\"\n",
    "}\n",
    "console.log(user.full name)"
   ]
  },
  {
   "cell_type": "code",
   "execution_count": 13,
   "id": "22b0ca9e-cb1a-4273-9b1b-255d9bdd64b5",
   "metadata": {},
   "outputs": [
    {
     "ename": "Expected ident at repl.tsx:4:18\n\n  console.log(user.\"full name\")\n                   ~~~~~~~~~~~",
     "evalue": " ",
     "output_type": "error",
     "traceback": []
    }
   ],
   "source": [
    "const user={\n",
    "    \"full name\":\"Gautam Raj\"\n",
    "}\n",
    "console.log(user.\"full name\")"
   ]
  },
  {
   "cell_type": "markdown",
   "id": "af455c73-03cd-4e20-8921-c03efc9e5387",
   "metadata": {},
   "source": [
    "We can use **square brackets** notation in this case. This is the better way."
   ]
  },
  {
   "cell_type": "markdown",
   "id": "2283c224-3a5f-4254-920f-a4533b322c69",
   "metadata": {},
   "source": [
    "2. **Square brackets Notation**"
   ]
  },
  {
   "cell_type": "code",
   "execution_count": 16,
   "id": "9029596b-da25-48de-bdce-b977c32c10f2",
   "metadata": {},
   "outputs": [
    {
     "name": "stdout",
     "output_type": "stream",
     "text": [
      "Gautam Raj\n",
      "Rome\n"
     ]
    }
   ],
   "source": [
    "const user={\n",
    "    \"full name\":\"Gautam Raj\",\n",
    "    location:\"Rome\"\n",
    "}\n",
    "console.log(user[\"full name\"])\n",
    "console.log(user[\"location\"]) //always  write keys as strings in square notation"
   ]
  },
  {
   "cell_type": "markdown",
   "id": "526fb468-3a86-408b-8e85-1c384d377a93",
   "metadata": {},
   "source": [
    "3. **Object destructuring Notation**"
   ]
  },
  {
   "cell_type": "code",
   "execution_count": null,
   "id": "ae9eac08-5bd6-491d-a5cd-4bdf25a4ab73",
   "metadata": {},
   "outputs": [],
   "source": [
    "const user = {\n",
    "    name:\"Gautam\",\n",
    "    age:23,\n",
    "    location:\"Venice\",\n",
    "    email:\"gautam@gmail.com\",\n",
    "    isLoggedin:false,\n",
    "    lastLoginDays:[\"Monday\",\"Saturday\"]\n",
    "}"
   ]
  },
  {
   "cell_type": "markdown",
   "id": "e980c433-1f18-416f-941f-7a3e02a725fa",
   "metadata": {},
   "source": [
    "## Create objects using Constructor"
   ]
  },
  {
   "cell_type": "code",
   "execution_count": 23,
   "id": "e3b6e7db-159a-44bb-a127-82739d45ff3a",
   "metadata": {},
   "outputs": [
    {
     "name": "stdout",
     "output_type": "stream",
     "text": [
      "Gautam\n",
      "\u001b[33m23\u001b[39m\n"
     ]
    }
   ],
   "source": [
    "const obj1 = new Object({\n",
    "    name:\"Gautam\",\n",
    "    age:23\n",
    "    }\n",
    ")\n",
    "console.log(obj1[\"name\"])\n",
    "console.log(obj1.age)"
   ]
  }
 ],
 "metadata": {
  "kernelspec": {
   "display_name": "Deno",
   "language": "typescript",
   "name": "deno"
  },
  "language_info": {
   "file_extension": ".ts",
   "mimetype": "text/x.typescript",
   "name": "typescript",
   "nb_converter": "script",
   "pygments_lexer": "typescript",
   "version": "5.3.3"
  }
 },
 "nbformat": 4,
 "nbformat_minor": 5
}
