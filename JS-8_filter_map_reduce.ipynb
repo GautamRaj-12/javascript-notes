{
 "cells": [
  {
   "cell_type": "markdown",
   "id": "a0511e89-366e-426e-9640-0a0ab5b86adc",
   "metadata": {},
   "source": [
    "## Table of Contents"
   ]
  },
  {
   "cell_type": "markdown",
   "id": "9a246eaa-3d8b-46f0-86b0-d73fbaadf316",
   "metadata": {},
   "source": [
    "### Filter"
   ]
  },
  {
   "cell_type": "code",
   "execution_count": null,
   "id": "48ae5d41-c683-4f09-8b74-52a7ae3c68f1",
   "metadata": {},
   "outputs": [],
   "source": [
    "// const coding = [\"js\", \"ruby\", \"java\", \"python\", \"cpp\"]\n",
    "\n",
    "\n",
    "// const values = coding.forEach( (item) => {\n",
    "//     //console.log(item);\n",
    "//     return item\n",
    "// } )\n",
    "\n",
    "// console.log(values);\n",
    "\n",
    "const myNums = [1, 2, 3, 4, 5, 6, 7, 8, 9, 10]\n",
    "\n",
    "// const newNums = myNums.filter( (num) => {\n",
    "//     return num > 4\n",
    "// } )\n",
    "\n",
    "// const newNums = []\n",
    "\n",
    "// myNums.forEach( (num) => {\n",
    "//     if (num > 4) {\n",
    "//         newNums.push(num)\n",
    "//     }\n",
    "// } )\n",
    "\n",
    "// console.log(newNums);\n",
    "\n",
    "\n",
    "const books = [\n",
    "    { title: 'Book One', genre: 'Fiction', publish: 1981, edition: 2004 },\n",
    "    { title: 'Book Two', genre: 'Non-Fiction', publish: 1992, edition: 2008 },\n",
    "    { title: 'Book Three', genre: 'History', publish: 1999, edition: 2007 },\n",
    "    { title: 'Book Four', genre: 'Non-Fiction', publish: 1989, edition: 2010 },\n",
    "    { title: 'Book Five', genre: 'Science', publish: 2009, edition: 2014 },\n",
    "    { title: 'Book Six', genre: 'Fiction', publish: 1987, edition: 2010 },\n",
    "    { title: 'Book Seven', genre: 'History', publish: 1986, edition: 1996 },\n",
    "    { title: 'Book Eight', genre: 'Science', publish: 2011, edition: 2016 },\n",
    "    { title: 'Book Nine', genre: 'Non-Fiction', publish: 1981, edition: 1989 },\n",
    "  ];\n",
    "\n",
    "  let userBooks = books.filter( (bk) => bk.genre === 'History')\n",
    "\n",
    "  userBooks = books.filter( (bk) => { \n",
    "    return bk.publish >= 1995 && bk.genre === \"History\"\n",
    "})\n",
    "  console.log(userBooks);"
   ]
  },
  {
   "cell_type": "markdown",
   "id": "5da11457-b8ea-4985-90ef-064e9f6f3c9b",
   "metadata": {},
   "source": [
    "### filter and map"
   ]
  },
  {
   "cell_type": "code",
   "execution_count": 2,
   "id": "8ff19aa7-f6ba-4e7c-ac4f-73b52bb54ec7",
   "metadata": {},
   "outputs": [
    {
     "name": "stdout",
     "output_type": "stream",
     "text": [
      "[\n",
      "  \u001b[33m41\u001b[39m, \u001b[33m51\u001b[39m,  \u001b[33m61\u001b[39m, \u001b[33m71\u001b[39m,\n",
      "  \u001b[33m81\u001b[39m, \u001b[33m91\u001b[39m, \u001b[33m101\u001b[39m\n",
      "]\n"
     ]
    }
   ],
   "source": [
    "const myNumers = [1, 2, 3, 4, 5, 6, 7, 8, 9, 10]\n",
    "\n",
    "// const newNums = myNumers.map( (num) => { return num + 10})\n",
    "\n",
    "const newNums = myNumers\n",
    "                .map((num) => num * 10 )\n",
    "                .map( (num) => num + 1)\n",
    "                .filter( (num) => num >= 40)\n",
    "\n",
    "console.log(newNums);"
   ]
  },
  {
   "cell_type": "markdown",
   "id": "5e97b074-11bc-41b5-8bfb-acd16c3cfe8f",
   "metadata": {},
   "source": [
    "### reduce"
   ]
  },
  {
   "cell_type": "code",
   "execution_count": 4,
   "id": "557edceb-262e-47c1-a038-86a3f2d91650",
   "metadata": {},
   "outputs": [
    {
     "name": "stdout",
     "output_type": "stream",
     "text": [
      "\u001b[33m6\u001b[39m\n",
      "\u001b[33m22996\u001b[39m\n"
     ]
    }
   ],
   "source": [
    "const myNums = [1, 2, 3]\n",
    "\n",
    "// const myTotal = myNums.reduce(function (acc, currval) {\n",
    "//     console.log(`acc: ${acc} and currval: ${currval}`);\n",
    "//     return acc + currval\n",
    "// }, 0)\n",
    "\n",
    "const myTotal = myNums.reduce( (acc, curr) => acc+curr, 0)\n",
    "\n",
    "console.log(myTotal);\n",
    "\n",
    "\n",
    "const shoppingCart = [\n",
    "    {\n",
    "        itemName: \"js course\",\n",
    "        price: 2999\n",
    "    },\n",
    "    {\n",
    "        itemName: \"py course\",\n",
    "        price: 999\n",
    "    },\n",
    "    {\n",
    "        itemName: \"mobile dev course\",\n",
    "        price: 5999\n",
    "    },\n",
    "    {\n",
    "        itemName: \"data science course\",\n",
    "        price: 12999\n",
    "    },\n",
    "]\n",
    "\n",
    "const priceToPay = shoppingCart.reduce((acc, item) => acc + item.price, 0)\n",
    "\n",
    "console.log(priceToPay);"
   ]
  }
 ],
 "metadata": {
  "kernelspec": {
   "display_name": "Deno",
   "language": "typescript",
   "name": "deno"
  },
  "language_info": {
   "file_extension": ".ts",
   "mimetype": "text/x.typescript",
   "name": "typescript",
   "nb_converter": "script",
   "pygments_lexer": "typescript",
   "version": "5.3.3"
  }
 },
 "nbformat": 4,
 "nbformat_minor": 5
}
