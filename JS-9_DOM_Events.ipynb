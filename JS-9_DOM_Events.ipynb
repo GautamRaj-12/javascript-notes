{
 "cells": [
  {
   "cell_type": "markdown",
   "id": "04be32f2-2111-44d3-bff6-d90c789fd339",
   "metadata": {},
   "source": [
    "## Table of Contents"
   ]
  },
  {
   "cell_type": "code",
   "execution_count": null,
   "id": "1bc3e2be-45c4-495d-8e7a-7fa5645f7a86",
   "metadata": {},
   "outputs": [],
   "source": []
  }
 ],
 "metadata": {
  "kernelspec": {
   "display_name": "Deno",
   "language": "typescript",
   "name": "deno"
  },
  "language_info": {
   "file_extension": ".ts",
   "mimetype": "text/x.typescript",
   "name": "typescript",
   "nb_converter": "script",
   "pygments_lexer": "typescript",
   "version": "5.3.3"
  }
 },
 "nbformat": 4,
 "nbformat_minor": 5
}
